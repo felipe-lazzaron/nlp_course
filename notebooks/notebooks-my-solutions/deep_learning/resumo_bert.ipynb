{
 "cells": [
  {
   "cell_type": "markdown",
   "id": "98a48702",
   "metadata": {},
   "source": [
    "# Resumo: BERT e Suas Variações\n",
    "\n",
    "## 1. Por que o BERT funciona?\n",
    "\n",
    "- **Arquitetura Transformer Bidirecional**  \n",
    "  - Processa cada token considerando contexto à esquerda e à direita simultaneamente.  \n",
    "  - Captura relações de longo alcance sem limitação de janela fixa.\n",
    "\n",
    "- **Pré-treinamento em Grande Escala**  \n",
    "  1. **Masked Language Modeling (MLM):** 15 % dos tokens mascarados; o modelo aprende a prever cada palavra a partir do contexto.  \n",
    "  2. **Next Sentence Prediction (NSP):** aprende relações entre sentenças, útil para tarefas de pares (Q&A, inferência).\n",
    "\n",
    "- **Embeddings Contextuais**  \n",
    "  - O mesmo token (“bank”) tem vetores diferentes em “river bank” vs “bank account”.  \n",
    "  - Rica representação semântica que reflete sentido, sintaxe e posição.\n",
    "\n",
    "---\n",
    "\n",
    "## 2. Vantagens do BERT\n",
    "\n",
    "1. **Contextualização Dinâmica:** desambiguação de polissemia.  \n",
    "2. **Transfer Learning:** “fine-tune” rápido para tarefas específicas (classificação, NER, Q&A).  \n",
    "3. **Melhor Desempenho em Tarefas Complexas:** especialmente onde contexto profundo importa (análise de sentimentos nuance, perguntas e respostas).\n",
    "\n",
    "---\n",
    "\n",
    "## 3. Limitações do BERT\n",
    "\n",
    "1. **Custo Computacional Elevado:**  \n",
    "   - Extração de embeddings requer GPU e muita memória (768–1024 dimensões).  \n",
    "2. **Latência de Inferência:**  \n",
    "   - Tokenização, padding e passagem pela rede são lentos, difícil deploy em tempo real de alta escala.  \n",
    "3. **Tamanho e Versão do Modelo:**  \n",
    "   - Modelos grandes (BERT-Base, BERT-Large) não cabem em dispositivos edge; versões menores (DistilBERT, TinyBERT) sacrificam performance.\n",
    "4. **Dados Limitados no Fine-tuning:**  \n",
    "   - Com poucos exemplos, overfitting se torna risco; técnicas como “layer freezing” ajudam.\n",
    "\n",
    "---\n",
    "\n",
    "## 4. Elementos e Hiperparâmetros Principais\n",
    "\n",
    "| Elemento / Parâmetro           | Descrição & Variações                                                                                              | Quando usar / Exemplo                                                   |\n",
    "|--------------------------------|---------------------------------------------------------------------------------------------------------------------|--------------------------------------------------------------------------|\n",
    "| **Modelo-base**                | – `bert-base-uncased` (12 camadas, 768 hidden, 12 heads) <br>– `bert-large-uncased` (24 camadas, 1024 hidden, 16 heads) | Base para maioria das tarefas; Large para Q&A exigente em contexto.      |\n",
    "| **Tokenizer**                  | – WordPiece, Byte-Pair Encoding, SentencePiece                                                                     | WordPiece é padrão BERT; SentencePiece (em mBERT/ALBERT) capta melhor idiomas com vocabulário diverso. |\n",
    "| **Max Sequence Length**        | Número máximo de tokens (p.ex. 128, 256, 512)                                                                        | 128–256 para tweets/SMS; 512 para documentos longos; cuidado com memória. |\n",
    "| **Batch Size**                 | Tamanho de lote (p.ex. 8, 16, 32)                                                                                   | GPU limitada → batch pequeno; usar gradient accumulation se precisar.    |\n",
    "| **Learning Rate**              | Tipicamente `2e-5` a `5e-5` para fine-tuning                                                                         | Taxa baixa para evitar “destruir” pré-treinamento; experimente 3e-5.      |\n",
    "| **Number of Epochs**           | 2–4 épocas geralmente suficientes                                                                                    | 3 épocas costuma equilibrar aprendizado e overfitting.                   |\n",
    "| **Warmup Steps**               | Proporção inicial (10 % dos passos) para aquecer learning rate                                                      | Ajuda a estabilizar otimização; configure `warmup_steps = total_steps * 0.1`. |\n",
    "| **Dropout**                    | Regularização (p.ex. 0.1)                                                                                            | Mantém coesão de representações; use valor padrão 0.1 ou ajuste leve.    |\n",
    "| **Layer Freezing**             | Congelar primeiras N camadas para reduzir overfitting                                                               | Com poucos dados de fine-tune, congele 6 camadas iniciais e treine só as top. |\n",
    "\n",
    "---\n",
    "\n",
    "## 5. Exemplos Comparativos\n",
    "\n",
    "| Tarefa                      | Configuração Recomendada                                | Modelo Alternativo         |\n",
    "|-----------------------------|----------------------------------------------------------|----------------------------|\n",
    "| Classificação de Sentimentos (tweets) | BERT-Base, max_len=128, batch=16, lr=3e-5, 3 épocas         | DistilBERT (sem GPU)       |\n",
    "| Q&A em Documentos Jurídicos | BERT-Large, max_len=512, batch=8, lr=2e-5, 4 épocas       | RoBERTa-Large              |\n",
    "| NER em Dados Clínicos       | BERT-Base-cased, tokenizer cased, max_len=256, lr=3e-5    | BioBERT / ClinicalBERT     |\n",
    "\n",
    "---\n",
    "\n",
    "> **Dica final:** ajuste hiperparâmetros com grid search leve usando validação cruzada e considere versões menores (DistilBERT, ALBERT) para deploy em produção com recurso limitado.  "
   ]
  },
  {
   "cell_type": "markdown",
   "id": "1734f563",
   "metadata": {},
   "source": [
    "## Exemplos de Treinamento e Classificação com BERT\n",
    "\n",
    "A seguir, veremos dois exemplos completos de fine-tuning de BERT em um dataset público de classificação de texto (IMDb) — um rodando em **CPU** e outro aproveitando **GPU (CUDA)**, se disponível.\n",
    "\n",
    "---\n",
    "\n",
    "# Passo 1: Instalar e importar dependências"
   ]
  },
  {
   "cell_type": "code",
   "execution_count": 6,
   "id": "f7469f27",
   "metadata": {},
   "outputs": [
    {
     "data": {
      "application/vnd.jupyter.widget-view+json": {
       "model_id": "9be03fda39174ffd8425d982f9ee87ee",
       "version_major": 2,
       "version_minor": 0
      },
      "text/plain": [
       "Map:   0%|          | 0/2000 [00:00<?, ? examples/s]"
      ]
     },
     "metadata": {},
     "output_type": "display_data"
    },
    {
     "data": {
      "application/vnd.jupyter.widget-view+json": {
       "model_id": "0f4bffd78db04e7d845ea332847f341c",
       "version_major": 2,
       "version_minor": 0
      },
      "text/plain": [
       "Map:   0%|          | 0/500 [00:00<?, ? examples/s]"
      ]
     },
     "metadata": {},
     "output_type": "display_data"
    }
   ],
   "source": [
    "import torch\n",
    "from torch.utils.data import DataLoader\n",
    "from datasets import load_dataset\n",
    "from transformers import BertTokenizer, BertForSequenceClassification\n",
    "from sklearn.metrics import accuracy_score, precision_recall_fscore_support\n",
    "\n",
    "# 1. Preparação do Dataset\n",
    "# -------------------------\n",
    "ds = load_dataset(\"imdb\")\n",
    "# Amostra pequena para exemplo\n",
    "train_ds = ds[\"train\"].shuffle(seed=42).select(range(2000))\n",
    "test_ds  = ds[\"test\"].shuffle(seed=42).select(range(500))\n",
    "\n",
    "tokenizer = BertTokenizer.from_pretrained(\"bert-base-uncased\")\n",
    "\n",
    "def preprocess(batch):\n",
    "    enc = tokenizer(\n",
    "        batch[\"text\"],\n",
    "        padding=\"max_length\",\n",
    "        truncation=True,\n",
    "        max_length=128,\n",
    "        return_tensors=\"pt\",\n",
    "    )\n",
    "    return {\n",
    "        \"input_ids\":  enc[\"input_ids\"],\n",
    "        \"attention_mask\": enc[\"attention_mask\"],\n",
    "        \"labels\": torch.tensor(batch[\"label\"]),\n",
    "    }\n",
    "\n",
    "train_ds = train_ds.map(preprocess, batched=True, remove_columns=[\"text\"])\n",
    "test_ds  = test_ds.map(preprocess,  batched=True, remove_columns=[\"text\"])\n",
    "\n",
    "train_ds.set_format(\"torch\")\n",
    "test_ds.set_format(\"torch\")\n",
    "\n",
    "train_loader = DataLoader(train_ds, batch_size=16, shuffle=True)\n",
    "test_loader  = DataLoader(test_ds,  batch_size=16)"
   ]
  },
  {
   "cell_type": "markdown",
   "id": "07310028",
   "metadata": {},
   "source": [
    "# 2. Configuração do Modelo e Otimizador"
   ]
  },
  {
   "cell_type": "code",
   "execution_count": 7,
   "id": "d0d3d1e9",
   "metadata": {},
   "outputs": [
    {
     "name": "stderr",
     "output_type": "stream",
     "text": [
      "Some weights of BertForSequenceClassification were not initialized from the model checkpoint at bert-base-uncased and are newly initialized: ['classifier.bias', 'classifier.weight']\n",
      "You should probably TRAIN this model on a down-stream task to be able to use it for predictions and inference.\n"
     ]
    }
   ],
   "source": [
    "device = torch.device(\"cuda\" if torch.cuda.is_available() else \"cpu\")\n",
    "model  = BertForSequenceClassification.from_pretrained(\n",
    "    \"bert-base-uncased\", num_labels=2\n",
    ").to(device)\n",
    "\n",
    "optimizer = torch.optim.AdamW(model.parameters(), lr=2e-5)\n",
    "criterion = torch.nn.CrossEntropyLoss()"
   ]
  },
  {
   "cell_type": "markdown",
   "id": "7e7d8b43",
   "metadata": {},
   "source": [
    "# 3. Função de Avaliação"
   ]
  },
  {
   "cell_type": "code",
   "execution_count": null,
   "id": "cb0a6bd5",
   "metadata": {},
   "outputs": [],
   "source": [
    "def evaluate(loader):\n",
    "    model.eval()\n",
    "    all_preds, all_labels = [], []\n",
    "    with torch.no_grad():\n",
    "        for batch in loader:\n",
    "            input_ids = batch[\"input_ids\"].to(device)\n",
    "            attention_mask = batch[\"attention_mask\"].to(device)\n",
    "            labels = batch[\"labels\"].to(device)\n",
    "            outputs = model(input_ids, attention_mask=attention_mask)\n",
    "            logits = outputs.logits\n",
    "            preds = torch.argmax(logits, dim=-1)\n",
    "            all_preds.append(preds.cpu())\n",
    "            all_labels.append(labels.cpu())\n",
    "    preds = torch.cat(all_preds)\n",
    "    labs  = torch.cat(all_labels)\n",
    "    acc = accuracy_score(labs, preds)\n",
    "    p, r, f1, _ = precision_recall_fscore_support(labs, preds, average=\"binary\")\n",
    "    return {\"accuracy\": acc, \"precision\": p, \"recall\": r, \"f1\": f1}\n"
   ]
  },
  {
   "cell_type": "markdown",
   "id": "b44e0b65",
   "metadata": {},
   "source": [
    "# 4. Loop de Treino (26min na cpu, 3min no cuda)\n"
   ]
  },
  {
   "cell_type": "code",
   "execution_count": 9,
   "id": "322ab1d9",
   "metadata": {},
   "outputs": [
    {
     "name": "stdout",
     "output_type": "stream",
     "text": [
      "Época 1/3 → {'accuracy': 0.864, 'precision': 0.8869565217391304, 'recall': 0.8292682926829268, 'f1': 0.8571428571428571}\n",
      "Época 2/3 → {'accuracy': 0.86, 'precision': 0.8410852713178295, 'recall': 0.8821138211382114, 'f1': 0.8611111111111112}\n",
      "Época 3/3 → {'accuracy': 0.798, 'precision': 0.7203647416413373, 'recall': 0.9634146341463414, 'f1': 0.8243478260869566}\n"
     ]
    }
   ],
   "source": [
    "num_epochs = 3\n",
    "for epoch in range(num_epochs):\n",
    "    model.train()\n",
    "    for batch in train_loader:\n",
    "        optimizer.zero_grad()\n",
    "        input_ids = batch[\"input_ids\"].to(device)\n",
    "        attention_mask = batch[\"attention_mask\"].to(device)\n",
    "        labels = batch[\"labels\"].to(device)\n",
    "        outputs = model(input_ids, attention_mask=attention_mask, labels=labels)\n",
    "        loss = outputs.loss\n",
    "        loss.backward()\n",
    "        optimizer.step()\n",
    "    metrics = evaluate(test_loader)\n",
    "    print(f\"Época {epoch+1}/{num_epochs} →\", metrics)"
   ]
  },
  {
   "cell_type": "markdown",
   "id": "6f64132d",
   "metadata": {},
   "source": [
    "# 5. Inferência em Novos Textos\n"
   ]
  },
  {
   "cell_type": "code",
   "execution_count": 10,
   "id": "2c9b4647",
   "metadata": {},
   "outputs": [
    {
     "name": "stdout",
     "output_type": "stream",
     "text": [
      "Texto: An amazing movie, truly enjoyed every minute!\n",
      "→ positive (confiança 1.00)\n",
      "\n",
      "Texto: Terrible plot, I would not recommend it to anyone.\n",
      "→ negative (confiança 0.98)\n",
      "\n"
     ]
    }
   ],
   "source": [
    "samples = [\n",
    "    \"An amazing movie, truly enjoyed every minute!\",\n",
    "    \"Terrible plot, I would not recommend it to anyone.\"\n",
    "]\n",
    "enc = tokenizer(samples, padding=True, truncation=True, max_length=128, return_tensors=\"pt\")\n",
    "enc = {k: v.to(device) for k, v in enc.items()}\n",
    "\n",
    "model.eval()\n",
    "with torch.no_grad():\n",
    "    outputs = model(**enc)\n",
    "    probs = torch.softmax(outputs.logits, dim=-1)\n",
    "    preds = torch.argmax(probs, dim=-1)\n",
    "\n",
    "for text, pred, prob in zip(samples, preds.cpu(), probs.cpu()):\n",
    "    label = \"positive\" if pred==1 else \"negative\"\n",
    "    print(f\"Texto: {text}\\n→ {label} (confiança {prob[pred]:.2f})\\n\")"
   ]
  },
  {
   "cell_type": "code",
   "execution_count": null,
   "id": "d9b2e15e",
   "metadata": {},
   "outputs": [],
   "source": []
  }
 ],
 "metadata": {
  "kernelspec": {
   "display_name": "venv",
   "language": "python",
   "name": "python3"
  },
  "language_info": {
   "codemirror_mode": {
    "name": "ipython",
    "version": 3
   },
   "file_extension": ".py",
   "mimetype": "text/x-python",
   "name": "python",
   "nbconvert_exporter": "python",
   "pygments_lexer": "ipython3",
   "version": "3.10.11"
  }
 },
 "nbformat": 4,
 "nbformat_minor": 5
}
