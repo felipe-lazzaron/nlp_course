{
 "cells": [
  {
   "cell_type": "markdown",
   "id": "2c2b37ac",
   "metadata": {},
   "source": [
    "# Redes Neurais de Ponta a Ponta para Processamento de Linguagem Natural (PLN)\n",
    "\n",
    "## Embeddings de Palavras\n",
    "\n",
    "Se tudo estiver funcionando bem, você utilizou o PyTorch para criar um classificador para um modelo bag-of-words, porém teve a dificuldade adicional de escrever manualmente o loop de treinamento.\n",
    "\n",
    "Agora é hora de fazer alguns cálculos e revisar nossos modelos.\n",
    "\n",
    "### Matemática subjacente ao modelo bag-of-words\n",
    "\n",
    "Em nosso modelo atual, representamos cada palavra por um vetor linha e podemos expressar um documento como uma matriz de palavras $X^{(d)}$:\n",
    "\n",
    "$$\n",
    "X^{(d)} = \n",
    "\\begin{bmatrix} \n",
    "x^{(d)}_{1,1} & x^{(d)}_{1,2} & \\cdots & x^{(d)}_{1,d} \\\\\n",
    "\\vdots & \\vdots & \\ddots & \\vdots \\\\\n",
    "x^{(d)}_{n,1} & x^{(d)}_{n,2} & \\cdots & x^{(d)}_{n,d} \n",
    "\\end{bmatrix}\n",
    "$$\n",
    "\n",
    "Suponha agora que cada palavra seja representada por um vetor em $\\mathbb{R}^N$, onde podemos escolher $N$ livremente. Essa representação é chamada de *embedding*.\n",
    "\n",
    "Embeddings são representações densas, ou seja, possuem menos dimensões que o tamanho do vocabulário e apenas algumas dimensões são relevantes por palavra ou documento.\n",
    "\n",
    "O que desejamos é que esses vetores reflitam o *significado* das palavras. Mas, afinal, o que é *significado*?\n",
    "\n",
    "Essa é uma questão complexa, que abordaremos ao longo do curso.\n",
    "\n",
    "Por enquanto, vamos prosseguir e codificar um pouco.\n",
    "\n",
    "### Codificação com embeddings\n",
    "\n",
    "Para mapear palavras aos seus embeddings, usamos no PyTorch uma camada de *embedding*. Essa camada recebe uma sequência de inteiros (índices de palavras) e retorna uma sequência de vetores, um para cada palavra do documento:"
   ]
  },
  {
   "cell_type": "code",
   "execution_count": null,
   "id": "c5df1307",
   "metadata": {},
   "outputs": [
    {
     "name": "stdout",
     "output_type": "stream",
     "text": [
      "tensor([[[-2.0487, -0.0129],\n",
      "         [-0.2533,  0.4852],\n",
      "         [-1.5191,  1.9912],\n",
      "         [-0.9696,  0.8622]],\n",
      "\n",
      "        [[-0.9308,  1.0866],\n",
      "         [ 1.0455,  0.3604],\n",
      "         [-0.9308,  1.0866],\n",
      "         [-0.9696,  0.8622]],\n",
      "\n",
      "        [[ 1.0455,  0.3604],\n",
      "         [-0.9308,  1.0866],\n",
      "         [-0.9696,  0.8622],\n",
      "         [-1.5191,  1.9912]]], grad_fn=<EmbeddingBackward0>)\n",
      "torch.Size([3, 4, 2])\n"
     ]
    }
   ],
   "source": [
    "import torch\n",
    "import torch.nn as nn\n",
    "\n",
    "# Parameters of the embedding layer\n",
    "vocab_size = 100  # Number of unique tokens\n",
    "embedding_dim = 2  # You can choose the dimension of the embeddings\n",
    "embedding_layer = nn.Embedding(num_embeddings=vocab_size, embedding_dim=embedding_dim)\n",
    "\n",
    "# Documents are now represented as sequences of tokens.\n",
    "# Each token is an integer representing the index of the token in the vocabulary.\n",
    "tokens = torch.tensor([[0, 1, 2, 3],\n",
    "                        [4, 5, 4, 3],\n",
    "                        [5, 4, 3, 2]])\n",
    "\n",
    "# Get the embeddings for the tokens\n",
    "embeddings = embedding_layer(tokens)\n",
    "\n",
    "print(embeddings)\n",
    "print(embeddings.shape)\n",
    "\n",
    "\n",
    "\"\"\"\"\n",
    "O que estamos fazendo no código acima?\n",
    "1. Especificamos o tamanho do vocabulário e a dimensão dos embeddings.\n",
    "2. Criamos uma camada de embedding com `nn.Embedding`. Embedding layer é uma camada que transforma índices de palavras em vetores densos.\n",
    "3. Criamos um tensor de tokens, onde cada token é representado por um índice inteiro. Precisamos definir ele para gerar o embedding porque ele define o tamanho do vocabulário. Nesse caso, o vocabulário tem 100 tokens. Quanto maior for o vocabulário, mais espaço em memória precisamos para armazenar os embeddings e mais tempo de treinamento precisamos para treinar a rede.\n",
    "4. Passamos os tokens pela camada de embedding para obter os embeddings correspondentes.\n",
    "\n",
    "\"\"\""
   ]
  },
  {
   "cell_type": "markdown",
   "id": "88d91f79",
   "metadata": {},
   "source": [
    "Note que, no código acima, obtivemos um lote (batch) com formato tridimensional. O formato $3 \\times 4 \\times 2$ significa que temos:\n",
    "- **3** batches\n",
    "- comprimento máximo de **4** tokens por sentença\n",
    "- embeddings de dimensão **2** para cada token"
   ]
  },
  {
   "cell_type": "markdown",
   "id": "6c9d6b2f",
   "metadata": {},
   "source": [
    "## Estratégias de Tokenização\n",
    "\n",
    "A tokenização consiste em converter texto em unidades menores (tokens). A seguir, apresentamos diferentes estratégias para tokenizar sentenças:"
   ]
  },
  {
   "cell_type": "code",
   "execution_count": 3,
   "id": "5fcee9af",
   "metadata": {},
   "outputs": [
    {
     "name": "stdout",
     "output_type": "stream",
     "text": [
      "Collecting sentencepiece\n",
      "  Downloading sentencepiece-0.2.0-cp310-cp310-macosx_11_0_arm64.whl (1.2 MB)\n",
      "\u001b[2K     \u001b[90m━━━━━━━━━━━━━━━━━━━━━━━━━━━━━━━━━━━━━━━━\u001b[0m \u001b[32m1.2/1.2 MB\u001b[0m \u001b[31m12.0 MB/s\u001b[0m eta \u001b[36m0:00:00\u001b[0m \u001b[36m0:00:01\u001b[0m\n",
      "\u001b[?25hInstalling collected packages: sentencepiece\n",
      "Successfully installed sentencepiece-0.2.0\n",
      "\n",
      "\u001b[1m[\u001b[0m\u001b[34;49mnotice\u001b[0m\u001b[1;39;49m]\u001b[0m\u001b[39;49m A new release of pip is available: \u001b[0m\u001b[31;49m23.0.1\u001b[0m\u001b[39;49m -> \u001b[0m\u001b[32;49m25.0.1\u001b[0m\n",
      "\u001b[1m[\u001b[0m\u001b[34;49mnotice\u001b[0m\u001b[1;39;49m]\u001b[0m\u001b[39;49m To update, run: \u001b[0m\u001b[32;49mpip install --upgrade pip\u001b[0m\n"
     ]
    }
   ],
   "source": [
    "!pip install sentencepiece"
   ]
  },
  {
   "cell_type": "code",
   "execution_count": 4,
   "id": "85f99bfe",
   "metadata": {},
   "outputs": [
    {
     "name": "stderr",
     "output_type": "stream",
     "text": [
      "sentencepiece_trainer.cc(78) LOG(INFO) Starts training with : \n",
      "trainer_spec {\n",
      "  input_format: \n",
      "  model_prefix: my_tokenizer\n",
      "  model_type: UNIGRAM\n",
      "  vocab_size: 100\n",
      "  self_test_sample_size: 0\n",
      "  character_coverage: 0.9995\n",
      "  input_sentence_size: 0\n",
      "  shuffle_input_sentence: 1\n",
      "  seed_sentencepiece_size: 1000000\n",
      "  shrinking_factor: 0.75\n",
      "  max_sentence_length: 4192\n",
      "  num_threads: 16\n",
      "  num_sub_iterations: 2\n",
      "  max_sentencepiece_length: 16\n",
      "  split_by_unicode_script: 1\n",
      "  split_by_number: 1\n",
      "  split_by_whitespace: 1\n",
      "  split_digits: 0\n",
      "  pretokenization_delimiter: \n",
      "  treat_whitespace_as_suffix: 0\n",
      "  allow_whitespace_only_pieces: 0\n",
      "  required_chars: \n",
      "  byte_fallback: 0\n",
      "  vocabulary_output_piece_score: 1\n",
      "  train_extremely_large_corpus: 0\n",
      "  seed_sentencepieces_file: \n",
      "  hard_vocab_limit: 1\n",
      "  use_all_vocab: 0\n",
      "  unk_id: 0\n",
      "  bos_id: 1\n",
      "  eos_id: 2\n",
      "  pad_id: -1\n",
      "  unk_piece: <unk>\n",
      "  bos_piece: <s>\n",
      "  eos_piece: </s>\n",
      "  pad_piece: <pad>\n",
      "  unk_surface:  ⁇ \n",
      "  enable_differential_privacy: 0\n",
      "  differential_privacy_noise_level: 0\n",
      "  differential_privacy_clipping_threshold: 0\n",
      "}\n",
      "normalizer_spec {\n",
      "  name: nmt_nfkc\n",
      "  add_dummy_prefix: 1\n",
      "  remove_extra_whitespaces: 1\n",
      "  escape_whitespaces: 1\n",
      "  normalization_rule_tsv: \n",
      "}\n",
      "denormalizer_spec {}\n",
      "trainer_interface.cc(409) LOG(INFO) Loaded all 8 sentences\n",
      "trainer_interface.cc(425) LOG(INFO) Adding meta_piece: <unk>\n",
      "trainer_interface.cc(425) LOG(INFO) Adding meta_piece: <s>\n",
      "trainer_interface.cc(425) LOG(INFO) Adding meta_piece: </s>\n",
      "trainer_interface.cc(430) LOG(INFO) Normalizing sentences...\n",
      "trainer_interface.cc(539) LOG(INFO) all chars count=490\n",
      "trainer_interface.cc(560) LOG(INFO) Alphabet size=36\n",
      "trainer_interface.cc(561) LOG(INFO) Final character coverage=1\n",
      "trainer_interface.cc(592) LOG(INFO) Done! preprocessed 8 sentences.\n",
      "unigram_model_trainer.cc(265) LOG(INFO) Making suffix array...\n",
      "unigram_model_trainer.cc(269) LOG(INFO) Extracting frequent sub strings... node_num=210\n",
      "unigram_model_trainer.cc(312) LOG(INFO) Initialized 134 seed sentencepieces\n",
      "trainer_interface.cc(598) LOG(INFO) Tokenizing input sentences with whitespace: 8\n",
      "trainer_interface.cc(609) LOG(INFO) Done! 71\n",
      "unigram_model_trainer.cc(602) LOG(INFO) Using 71 sentences for EM training\n",
      "unigram_model_trainer.cc(618) LOG(INFO) EM sub_iter=0 size=109 obj=13.1974 num_tokens=231 num_tokens/piece=2.11927\n",
      "unigram_model_trainer.cc(618) LOG(INFO) EM sub_iter=1 size=99 obj=12.7698 num_tokens=232 num_tokens/piece=2.34343\n",
      "trainer_interface.cc(687) LOG(INFO) Saving model: my_tokenizer.model\n",
      "trainer_interface.cc(699) LOG(INFO) Saving vocabs: my_tokenizer.vocab\n"
     ]
    }
   ],
   "source": [
    "import sentencepiece as spm\n",
    "from io import StringIO\n",
    "\n",
    "# Your input data as a string\n",
    "input_data = \"\"\"Was ever feather so lightly blown to and fro as this multitude? The\n",
    "name of Henry the Fifth hales them to an hundred mischiefs and makes\n",
    "them leave me desolate. I see them lay their heads together to surprise\n",
    "me. My sword make way for me, for here is no staying.—In despite of the\n",
    "devils and hell, have through the very middest of you! And heavens and\n",
    "honour be witness that no want of resolution in me, but only my\n",
    "followers’ base and ignominious treasons, makes me betake me to my\n",
    "heels.\n",
    "\"\"\"\n",
    "\n",
    "# Use StringIO to create a file-like object\n",
    "input_fp = StringIO(input_data)\n",
    "\n",
    "# Train the SentencePiece model using the file pointer\n",
    "spm.SentencePieceTrainer.train(\n",
    "    sentence_iterator=input_fp, \n",
    "    model_prefix='my_tokenizer', \n",
    "    vocab_size=100\n",
    ")"
   ]
  },
  {
   "cell_type": "markdown",
   "id": "c2f060be",
   "metadata": {},
   "source": [
    "### Exemplo de código para testar o tokenizer treinado\n",
    "\n",
    "Neste exemplo, carregamos o modelo SentencePiece treinado e testamos sua aplicação em uma frase de exemplo:"
   ]
  },
  {
   "cell_type": "code",
   "execution_count": 7,
   "id": "bdb99b08",
   "metadata": {},
   "outputs": [
    {
     "name": "stdout",
     "output_type": "stream",
     "text": [
      "Encoded pieces: ['▁', 'T', 'hi', 's', '▁', 'is', '▁', 'a', '▁', 't', 'es', 't', '▁s', 'e', 'n', 't', 'e', 'n', 'c', 'e', '.']\n",
      "Encoded ids: [3, 82, 90, 7, 3, 28, 3, 59, 3, 9, 54, 9, 30, 4, 14, 9, 4, 14, 83, 4, 20]\n",
      "Recovered sentence: This is a test sentence.\n"
     ]
    }
   ],
   "source": [
    "# Load the trained SentencePiece model\n",
    "sp = spm.SentencePieceProcessor()\n",
    "sp.load('my_tokenizer.model')\n",
    "\n",
    "# Test the tokenizer\n",
    "test_sentence = \"This is a test sentence.\"\n",
    "encoded_pieces = sp.encode_as_pieces(test_sentence)\n",
    "encoded_ids = sp.encode_as_ids(test_sentence)\n",
    "recovered_sentence = sp.decode_ids(encoded_ids)\n",
    "\n",
    "print(\"Encoded pieces:\", encoded_pieces)\n",
    "print(\"Encoded ids:\", encoded_ids)\n",
    "print(\"Recovered sentence:\", recovered_sentence)"
   ]
  },
  {
   "cell_type": "markdown",
   "id": "eb9dbad4",
   "metadata": {},
   "source": [
    "## Preenchimento (Zero-padding) e Truncamento\n",
    "\n",
    "Para trabalhar com lotes de sentenças em redes neurais, precisamos que todas tenham o mesmo comprimento. Duas abordagens comuns são:\n",
    "- **Zero-padding**: adiciona zeros ao final de sentenças mais curtas.\n",
    "- **Truncamento**: corta sentenças mais longas para um comprimento fixo."
   ]
  },
  {
   "cell_type": "code",
   "execution_count": 8,
   "id": "3b5c13da",
   "metadata": {},
   "outputs": [
    {
     "name": "stderr",
     "output_type": "stream",
     "text": [
      "sentencepiece_trainer.cc(78) LOG(INFO) Starts training with : \n",
      "trainer_spec {\n",
      "  input_format: \n",
      "  model_prefix: my_tokenizer\n",
      "  model_type: UNIGRAM\n",
      "  vocab_size: 100\n",
      "  self_test_sample_size: 0\n",
      "  character_coverage: 0.9995\n",
      "  input_sentence_size: 0\n",
      "  shuffle_input_sentence: 1\n",
      "  seed_sentencepiece_size: 1000000\n",
      "  shrinking_factor: 0.75\n",
      "  max_sentence_length: 4192\n",
      "  num_threads: 16\n",
      "  num_sub_iterations: 2\n",
      "  max_sentencepiece_length: 16\n",
      "  split_by_unicode_script: 1\n",
      "  split_by_number: 1\n",
      "  split_by_whitespace: 1\n",
      "  split_digits: 0\n",
      "  pretokenization_delimiter: \n",
      "  treat_whitespace_as_suffix: 0\n",
      "  allow_whitespace_only_pieces: 0\n",
      "  user_defined_symbols: <PAD>\n",
      "  required_chars: \n",
      "  byte_fallback: 0\n",
      "  vocabulary_output_piece_score: 1\n",
      "  train_extremely_large_corpus: 0\n",
      "  seed_sentencepieces_file: \n",
      "  hard_vocab_limit: 1\n",
      "  use_all_vocab: 0\n",
      "  unk_id: 0\n",
      "  bos_id: 1\n",
      "  eos_id: 2\n",
      "  pad_id: -1\n",
      "  unk_piece: <unk>\n",
      "  bos_piece: <s>\n",
      "  eos_piece: </s>\n",
      "  pad_piece: <pad>\n",
      "  unk_surface:  ⁇ \n",
      "  enable_differential_privacy: 0\n",
      "  differential_privacy_noise_level: 0\n",
      "  differential_privacy_clipping_threshold: 0\n",
      "}\n",
      "normalizer_spec {\n",
      "  name: nmt_nfkc\n",
      "  add_dummy_prefix: 1\n",
      "  remove_extra_whitespaces: 1\n",
      "  escape_whitespaces: 1\n",
      "  normalization_rule_tsv: \n",
      "}\n",
      "denormalizer_spec {}\n",
      "trainer_interface.cc(409) LOG(INFO) Loaded all 8 sentences\n",
      "trainer_interface.cc(425) LOG(INFO) Adding meta_piece: <unk>\n",
      "trainer_interface.cc(425) LOG(INFO) Adding meta_piece: <s>\n",
      "trainer_interface.cc(425) LOG(INFO) Adding meta_piece: </s>\n",
      "trainer_interface.cc(425) LOG(INFO) Adding meta_piece: <PAD>\n",
      "trainer_interface.cc(430) LOG(INFO) Normalizing sentences...\n",
      "trainer_interface.cc(539) LOG(INFO) all chars count=490\n",
      "trainer_interface.cc(560) LOG(INFO) Alphabet size=36\n",
      "trainer_interface.cc(561) LOG(INFO) Final character coverage=1\n",
      "trainer_interface.cc(592) LOG(INFO) Done! preprocessed 8 sentences.\n",
      "unigram_model_trainer.cc(265) LOG(INFO) Making suffix array...\n",
      "unigram_model_trainer.cc(269) LOG(INFO) Extracting frequent sub strings... node_num=210\n",
      "unigram_model_trainer.cc(312) LOG(INFO) Initialized 134 seed sentencepieces\n",
      "trainer_interface.cc(598) LOG(INFO) Tokenizing input sentences with whitespace: 8\n",
      "trainer_interface.cc(609) LOG(INFO) Done! 71\n",
      "unigram_model_trainer.cc(602) LOG(INFO) Using 71 sentences for EM training\n",
      "unigram_model_trainer.cc(618) LOG(INFO) EM sub_iter=0 size=109 obj=13.1974 num_tokens=231 num_tokens/piece=2.11927\n",
      "unigram_model_trainer.cc(618) LOG(INFO) EM sub_iter=1 size=99 obj=12.7698 num_tokens=232 num_tokens/piece=2.34343\n",
      "trainer_interface.cc(687) LOG(INFO) Saving model: my_tokenizer.model\n",
      "trainer_interface.cc(699) LOG(INFO) Saving vocabs: my_tokenizer.vocab\n"
     ]
    }
   ],
   "source": [
    "# Use StringIO to create a file-like object\n",
    "input_fp = StringIO(input_data)\n",
    "\n",
    "# Train the SentencePiece model using the file pointer\n",
    "spm.SentencePieceTrainer.train(\n",
    "    sentence_iterator=input_fp, \n",
    "    model_prefix='my_tokenizer', \n",
    "    vocab_size=100,\n",
    "    user_defined_symbols=['<PAD>']\n",
    ")\n"
   ]
  },
  {
   "cell_type": "code",
   "execution_count": 9,
   "id": "558ecbaa",
   "metadata": {},
   "outputs": [
    {
     "name": "stdout",
     "output_type": "stream",
     "text": [
      "3\n"
     ]
    }
   ],
   "source": [
    "sp = spm.SentencePieceProcessor()\n",
    "sp.load('my_tokenizer.model')\n",
    "print(sp.piece_to_id('<PAD>'))"
   ]
  },
  {
   "cell_type": "code",
   "execution_count": 10,
   "id": "9ca65bc4",
   "metadata": {},
   "outputs": [
    {
     "name": "stdout",
     "output_type": "stream",
     "text": [
      "[[4, 83, 91, 8, 4, 29, 26, 6, 4, 10, 55, 10, 31, 5, 15, 10, 5, 15, 84, 5, 3, 3, 3, 3, 3], [4, 83, 91, 8, 4, 29, 78, 56, 10, 58, 4, 10, 55, 10, 31, 5, 15, 10, 5, 15, 84, 5, 3, 3, 3], [34, 29, 4, 29, 4, 60, 4, 35, 60, 96, 6, 40, 28, 42, 31, 5, 0, 27, 5, 15, 84, 5, 16, 4, 45]]\n",
      "torch.Size([3, 25, 2])\n"
     ]
    }
   ],
   "source": [
    "# Create an embedding layer with padding index set to 3\n",
    "def pad_to_len(sequences, pad_idx, max_len):\n",
    "    padded = []\n",
    "    for s in sequences:\n",
    "        if len(s) >= max_len:\n",
    "            padded.append(s[:max_len])\n",
    "        else:\n",
    "            padded.append(s + [pad_idx] * (max_len - len(s)))\n",
    "    return padded\n",
    "\n",
    "vocab_size = len(sp)\n",
    "embedding_dim = 2\n",
    "padding_idx = sp.piece_to_id('<PAD>')\n",
    "embedding_layer_with_padding = nn.Embedding(\n",
    "    num_embeddings=vocab_size,\n",
    "    embedding_dim=embedding_dim,\n",
    "    padding_idx=padding_idx,   \n",
    ")\n",
    "\n",
    "# Get the embeddings for the tokens using the new embedding layer\n",
    "input_data = [\"This is my test sentence\", \"This is another test sentence\", \"this is a really long sequence and I will probably have to crop it!\"]\n",
    "tokens = sp.tokenize(input_data)\n",
    "tokens = pad_to_len(tokens, padding_idx, 25)\n",
    "print(tokens)\n",
    "embeddings_with_padding = embedding_layer_with_padding(torch.tensor(tokens))\n",
    "#print(embeddings_with_padding)\n",
    "print(embeddings_with_padding.shape)"
   ]
  },
  {
   "cell_type": "markdown",
   "id": "956e85c5",
   "metadata": {},
   "source": [
    "## Até onde chegamos?\n",
    "\n",
    "Até o momento, já tokenizamos o texto, criamos embeddings e entendemos como organizar os dados para alimentar nosso modelo. Agora, vamos consolidar tudo isso em um pipeline."
   ]
  },
  {
   "cell_type": "markdown",
   "id": "065a3dd9",
   "metadata": {},
   "source": [
    "## Criando um Pipeline com PyTorch\n",
    "\n",
    "Em Scikit-Learn, utilizávamos pipelines para encadear etapas de pré-processamento e modelos. No PyTorch, estruturamos nosso código definindo classes que herdam de `nn.Module`, implementando os métodos `__init__` e `forward`."
   ]
  },
  {
   "cell_type": "markdown",
   "id": "493fd639",
   "metadata": {},
   "source": [
    "Lembre-se de que, no Scikit-Learn, utilizávamos pipelines para encadear transformações e modelos. Em PyTorch, nossa rede deve herdar de `nn.Module` e implementar pelo menos:\n",
    "- `__init__`: define as camadas do modelo.\n",
    "- `forward`: especifica o fluxo de dados através das camadas."
   ]
  },
  {
   "cell_type": "code",
   "execution_count": 11,
   "id": "7aae42d7",
   "metadata": {},
   "outputs": [
    {
     "name": "stdout",
     "output_type": "stream",
     "text": [
      "SimpleClassifier(\n",
      "  (embedding): Embedding(100, 2, padding_idx=3)\n",
      "  (clf): Linear(in_features=2, out_features=1, bias=True)\n",
      ")\n"
     ]
    }
   ],
   "source": [
    "import torch.nn.functional as F\n",
    "\n",
    "class SimpleClassifier(nn.Module):\n",
    "    def __init__(self, vocab_size, embedding_dim):\n",
    "        super().__init__()\n",
    "        self.embedding = nn.Embedding(\n",
    "            num_embeddings=vocab_size,\n",
    "            embedding_dim=embedding_dim,\n",
    "            padding_idx=padding_idx\n",
    "        )\n",
    "        self.clf = nn.Linear(embedding_dim, 1)\n",
    "        \n",
    "    def forward(self, x):\n",
    "        x = self.embedding(x)\n",
    "        x = torch.mean(x, dim=1)\n",
    "        x = self.clf(x)\n",
    "        return x\n",
    "\n",
    "model = SimpleClassifier(vocab_size, embedding_dim)\n",
    "print(model)"
   ]
  },
  {
   "cell_type": "code",
   "execution_count": 12,
   "id": "9fdb46c3",
   "metadata": {},
   "outputs": [],
   "source": [
    "import pandas as pd \n",
    "from sklearn.model_selection import train_test_split\n",
    "\n",
    "df = pd.read_csv(\n",
    "    'https://raw.githubusercontent.com/tiagoft/NLP/main/wiki_movie_plots_drama_comedy.csv'\n",
    ")\n",
    "# Split the data into training and testing sets\n",
    "texts = list(df['Plot'])\n",
    "labels = torch.tensor(list(df['Genre'].apply(lambda x: 1 if x == 'drama' else 0)))\n",
    "X_train, X_test, y_train, y_test = train_test_split(texts,\n",
    "                                                    labels,\n",
    "                                                    test_size=0.2)\n"
   ]
  },
  {
   "cell_type": "code",
   "execution_count": 13,
   "id": "60c7192d",
   "metadata": {},
   "outputs": [
    {
     "name": "stdout",
     "output_type": "stream",
     "text": [
      "Entering loop\n"
     ]
    },
    {
     "name": "stderr",
     "output_type": "stream",
     "text": [
      "100%|██████████| 200/200 [04:38<00:00,  1.39s/it]\n"
     ]
    }
   ],
   "source": [
    "from tqdm import tqdm \n",
    "\n",
    "# We will also define an optimizer:\n",
    "optimizer = torch.optim.SGD(model.parameters(), lr=1e0) # lr is the learning rate - this is our alpha\n",
    "\n",
    "print(\"Entering loop\")\n",
    "# And now, this is the training loop:\n",
    "losses = []\n",
    "for epoch in tqdm(range(200)):\n",
    "    optimizer.zero_grad()\n",
    "    tokens = sp.encode_as_ids(X_train)\n",
    "    tokens = pad_to_len(tokens, padding_idx, 100)\n",
    "    tokens = torch.tensor(tokens)\n",
    "    output = model(tokens)\n",
    "    output_probs = torch.sigmoid(output)\n",
    "    loss = torch.mean( (output_probs-y_train)**2 )\n",
    "    loss.backward()\n",
    "    optimizer.step()\n",
    "    losses.append(loss.item())\n",
    "\n"
   ]
  },
  {
   "cell_type": "code",
   "execution_count": 14,
   "id": "89838570",
   "metadata": {},
   "outputs": [
    {
     "data": {
      "image/png": "[encoded data removed]",
      "text/plain": [
       "<Figure size 500x300 with 1 Axes>"
      ]
     },
     "metadata": {},
     "output_type": "display_data"
    }
   ],
   "source": [
    "import matplotlib.pyplot as plt\n",
    "\n",
    "plt.figure(figsize=(5,3))\n",
    "plt.plot(losses)\n",
    "plt.xlabel('Epoch')\n",
    "plt.ylabel('Loss')\n",
    "plt.title('Training Loss over Epochs')\n",
    "plt.show()"
   ]
  },
  {
   "cell_type": "markdown",
   "id": "a1c4daef",
   "metadata": {},
   "source": [
    "### Avaliando o Modelo\n",
    "\n",
    "Para medir o desempenho, calculamos métricas como acurácia e F1-score no conjunto de teste. Vamos usar funções do Scikit-Learn para isso:"
   ]
  },
  {
   "cell_type": "code",
   "execution_count": 125,
   "id": "dd8ebc13",
   "metadata": {},
   "outputs": [
    {
     "name": "stdout",
     "output_type": "stream",
     "text": [
      "Accuracy: 0.583373610439826\n",
      "F1 Score: 0.36843711843711846\n",
      "              precision    recall  f1-score   support\n",
      "\n",
      "           0       0.00      0.00      0.00       862\n",
      "           1       0.58      1.00      0.74      1207\n",
      "\n",
      "    accuracy                           0.58      2069\n",
      "   macro avg       0.29      0.50      0.37      2069\n",
      "weighted avg       0.34      0.58      0.43      2069\n",
      "\n"
     ]
    }
   ],
   "source": [
    "from sklearn.metrics import accuracy_score, f1_score, classification_report\n",
    "\n",
    "# Get the predictions for the test set\n",
    "with torch.no_grad():\n",
    "    model.eval()\n",
    "    tokens = sp.encode_as_ids(X_test)\n",
    "    tokens = pad_to_len(tokens, padding_idx, 25)\n",
    "    tokens = torch.tensor(tokens)\n",
    "    output = model(tokens)\n",
    "    output_probs = torch.sigmoid(output)\n",
    "    predictions = (output_probs > 0.5).int().numpy()\n",
    "\n",
    "# Calculate the accuracy and F1 score\n",
    "accuracy = accuracy_score(\n",
    "    y_test,\n",
    "    predictions,\n",
    ")\n",
    "f1 = f1_score(\n",
    "    y_test,\n",
    "    predictions,\n",
    "    zero_division=0,\n",
    "    average='macro',\n",
    ")\n",
    "print(\"Accuracy:\", accuracy)\n",
    "print(\"F1 Score:\", f1)\n",
    "print(classification_report(\n",
    "    y_test,\n",
    "    predictions,\n",
    "    zero_division=0,\n",
    "))"
   ]
  },
  {
   "cell_type": "markdown",
   "id": "4fcbfd0a",
   "metadata": {},
   "source": [
    "## Alguns Passos de Otimização\n",
    "\n",
    "Podemos melhorar nosso modelo ajustando hiperparâmetros, como:\n",
    "- taxa de aprendizado (learning rate)\n",
    "- funções de perda\n",
    "- diferentes otimizadores (SGD, Adam, etc.)\n",
    "\n",
    "Nesta seção, exploraremos como aplicar o otimizador Adam e monitorar métricas durante o treinamento."
   ]
  },
  {
   "cell_type": "code",
   "execution_count": 15,
   "id": "ad50e62c",
   "metadata": {},
   "outputs": [
    {
     "name": "stdout",
     "output_type": "stream",
     "text": [
      "Entering loop\n"
     ]
    },
    {
     "name": "stderr",
     "output_type": "stream",
     "text": [
      "100%|██████████| 200/200 [03:40<00:00,  1.10s/it]\n"
     ]
    }
   ],
   "source": [
    "from tqdm import tqdm\n",
    "\n",
    "# We will also define an optimizer:\n",
    "optimizer = torch.optim.Adam(\n",
    "    model.parameters(), lr=1e0)  # lr is the learning rate - this is our alpha\n",
    "\n",
    "print(\"Entering loop\")\n",
    "# And now, this is the training loop:\n",
    "losses = []\n",
    "model.train()\n",
    "for epoch in tqdm(range(200)):\n",
    "    optimizer.zero_grad()\n",
    "    tokens = sp.encode_as_ids(X_train)\n",
    "    tokens = pad_to_len(tokens, padding_idx, 100)\n",
    "    tokens = torch.tensor(tokens)\n",
    "    output = model(tokens)\n",
    "    loss = torch.mean(\n",
    "        torch.binary_cross_entropy_with_logits(\n",
    "            output.flatten().float(),\n",
    "            y_train.flatten().float(),\n",
    "        ), )\n",
    "    loss.backward()\n",
    "    optimizer.step()\n",
    "    losses.append(loss.item())"
   ]
  },
  {
   "cell_type": "code",
   "execution_count": 16,
   "id": "0ed7f738",
   "metadata": {},
   "outputs": [
    {
     "data": {
      "image/png": "[encoded data removed]",
      "text/plain": [
       "<Figure size 500x300 with 1 Axes>"
      ]
     },
     "metadata": {},
     "output_type": "display_data"
    }
   ],
   "source": [
    "import matplotlib.pyplot as plt\n",
    "\n",
    "plt.figure(figsize=(5,3))\n",
    "plt.plot(losses)\n",
    "plt.xlabel('Epoch')\n",
    "plt.ylabel('Loss')\n",
    "plt.title('Training Loss over Epochs')\n",
    "plt.show()"
   ]
  },
  {
   "cell_type": "code",
   "execution_count": 17,
   "id": "63d514bb",
   "metadata": {},
   "outputs": [
    {
     "name": "stdout",
     "output_type": "stream",
     "text": [
      "Accuracy: 0.5964233929434509\n",
      "F1 Score: 0.5694349842751425\n",
      "              precision    recall  f1-score   support\n",
      "\n",
      "           0       0.52      0.41      0.46       866\n",
      "           1       0.63      0.73      0.68      1203\n",
      "\n",
      "    accuracy                           0.60      2069\n",
      "   macro avg       0.58      0.57      0.57      2069\n",
      "weighted avg       0.59      0.60      0.59      2069\n",
      "\n"
     ]
    }
   ],
   "source": [
    "from sklearn.metrics import accuracy_score, f1_score, classification_report\n",
    "\n",
    "# Get the predictions for the test set\n",
    "with torch.no_grad():\n",
    "    model.eval()\n",
    "    tokens = sp.encode_as_ids(X_test)\n",
    "    tokens = pad_to_len(tokens, padding_idx, 25)\n",
    "    tokens = torch.tensor(tokens)\n",
    "    output = model(tokens)\n",
    "    output_probs = torch.sigmoid(output)\n",
    "    predictions = (output_probs > 0.5).int().numpy()\n",
    "\n",
    "# Calculate the accuracy and F1 score\n",
    "accuracy = accuracy_score(\n",
    "    y_test,\n",
    "    predictions,\n",
    ")\n",
    "f1 = f1_score(\n",
    "    y_test,\n",
    "    predictions,\n",
    "    zero_division=0,\n",
    "    average='macro',\n",
    ")\n",
    "print(\"Accuracy:\", accuracy)\n",
    "print(\"F1 Score:\", f1)\n",
    "print(classification_report(\n",
    "    y_test,\n",
    "    predictions,\n",
    "    zero_division=0,\n",
    "))"
   ]
  },
  {
   "cell_type": "markdown",
   "id": "41e720a7",
   "metadata": {},
   "source": [
    "## Exercícios\n",
    "\n",
    "Os exercícios abaixo ajudarão a reforçar o aprendizado dos tópicos vistos:"
   ]
  },
  {
   "cell_type": "code",
   "execution_count": 23,
   "id": "780e073d",
   "metadata": {},
   "outputs": [],
   "source": [
    "\n",
    "# Verificação de instalação do sentencepiece\n",
    "try:\n",
    "    import sentencepiece as spm\n",
    "except ImportError:\n",
    "    raise ImportError(\n",
    "        \"O pacote 'sentencepiece' não está instalado. \"\n",
    "        \"Por favor, instale executando: pip install sentencepiece\"\n",
    "    )\n",
    "\n",
    "from sklearn.decomposition import PCA\n",
    "import matplotlib.pyplot as plt\n",
    "import torch\n",
    "import torch.nn as nn\n",
    "import torch.optim as optim\n",
    "import pandas as pd\n",
    "\n",
    "# Parâmetros básicos (ajuste conforme definido no notebook original)\n",
    "vocab_size = sp.get_piece_size()\n",
    "device = torch.device(\"cuda\" if torch.cuda.is_available() else \"cpu\")\n"
   ]
  },
  {
   "cell_type": "markdown",
   "id": "8519f190",
   "metadata": {},
   "source": [
    "### 1 - Visualizing embeddings\n",
    "\n",
    "Change the code for the `SimpleClassifier` class by adding a method that returns the word-level embeddings. Then, calculate the embedding for each word in your vocabulary. Plot the embeddings before training the model, and then after training the model. Do you see a pattern there?"
   ]
  },
  {
   "cell_type": "code",
   "execution_count": 18,
   "id": "3d1953ea",
   "metadata": {},
   "outputs": [
    {
     "data": {
      "image/png": "[encoded data removed]",
      "text/plain": [
       "<Figure size 1000x1000 with 1 Axes>"
      ]
     },
     "metadata": {},
     "output_type": "display_data"
    }
   ],
   "source": [
    "# Exercício 1 - Visualizando Embeddings\n",
    "from sklearn.decomposition import PCA\n",
    "import matplotlib.pyplot as plt\n",
    "\n",
    "# Obter embeddings do modelo e tokens do tokenizer\n",
    "embeddings = model.embedding.weight.data.cpu().numpy()  # matriz vocab_size x emb_dim\n",
    "vocab = [sp.id_to_piece(i) for i in range(sp.get_piece_size())]\n",
    "\n",
    "# Reduzir dimensões com PCA\n",
    "pca = PCA(n_components=2)\n",
    "emb_2d = pca.fit_transform(embeddings)\n",
    "\n",
    "plt.figure(figsize=(10,10))\n",
    "plt.scatter(emb_2d[:,0], emb_2d[:,1], alpha=0.7)\n",
    "for i, token in enumerate(vocab):\n",
    "    plt.annotate(token, (emb_2d[i,0], emb_2d[i,1]), fontsize=8)\n",
    "plt.title(\"PCA dos Embeddings de Palavras\")\n",
    "plt.show()"
   ]
  },
  {
   "cell_type": "markdown",
   "id": "81cdad56",
   "metadata": {},
   "source": [
    "### 2 - Further optimization\n",
    "\n",
    "Review the whole code for the classifier. Identify all parameters you can change. Identify the possible performance bottlenecks, change the parameters to reduce these bottlenecks, and then run the training process again. Do you see changes?\n"
   ]
  },
  {
   "cell_type": "code",
   "execution_count": 30,
   "id": "6334b86b",
   "metadata": {},
   "outputs": [],
   "source": [
    "import torch\n",
    "from torch.utils.data import Dataset, DataLoader\n",
    "\n",
    "def pad_sequence(seq, pad_idx, max_len):\n",
    "    if len(seq) >= max_len:\n",
    "        return seq[:max_len]\n",
    "    else:\n",
    "        return seq + [pad_idx] * (max_len - len(seq))\n",
    "\n",
    "class TextDataset(Dataset):\n",
    "    def __init__(self, texts, labels, tokenizer, max_length, padding_idx):\n",
    "        self.texts = texts\n",
    "        self.labels = labels\n",
    "        self.tokenizer = tokenizer\n",
    "        self.max_length = max_length\n",
    "        self.padding_idx = padding_idx\n",
    "\n",
    "    def __len__(self):\n",
    "        return len(self.texts)\n",
    "\n",
    "    def __getitem__(self, idx):\n",
    "        # 1. Tokeniza\n",
    "        tokens = self.tokenizer.encode_as_ids(self.texts[idx])\n",
    "        # 2. Padding/truncamento corretamente numa única sequência\n",
    "        tokens = pad_sequence(tokens, self.padding_idx, self.max_length)\n",
    "        # 3. Converte em tensores\n",
    "        x = torch.tensor(tokens, dtype=torch.long)\n",
    "        y = torch.tensor(self.labels[idx], dtype=torch.float)\n",
    "        return x, y\n",
    "\n",
    "# Exemplo de uso:\n",
    "MAX_LEN     = 100\n",
    "PADDING_IDX = padding_idx   # vem do seu notebook original\n",
    "BATCH_SIZE  = 64\n",
    "\n",
    "train_dataset = TextDataset(X_train, y_train, sp, MAX_LEN, PADDING_IDX)\n",
    "test_dataset  = TextDataset(X_test,  y_test,  sp, MAX_LEN, PADDING_IDX)\n",
    "\n",
    "train_loader = DataLoader(train_dataset, batch_size=BATCH_SIZE, shuffle=True)\n",
    "test_loader  = DataLoader(test_dataset,  batch_size=BATCH_SIZE, shuffle=False)"
   ]
  },
  {
   "cell_type": "code",
   "execution_count": 36,
   "id": "f396a774",
   "metadata": {},
   "outputs": [
    {
     "data": {
      "image/png": "[encoded data removed]",
      "text/plain": [
       "<Figure size 1000x1000 with 1 Axes>"
      ]
     },
     "metadata": {},
     "output_type": "display_data"
    },
    {
     "name": "stdout",
     "output_type": "stream",
     "text": [
      "Treinando com embedding_dim=50, lr=0.001\n"
     ]
    },
    {
     "name": "stderr",
     "output_type": "stream",
     "text": [
      "/var/folders/_m/_ly2lwsd3mlfswbbkk3y6l4h0000gn/T/ipykernel_56385/1194285564.py:28: UserWarning: To copy construct from a tensor, it is recommended to use sourceTensor.clone().detach() or sourceTensor.clone().detach().requires_grad_(True), rather than torch.tensor(sourceTensor).\n",
      "  y = torch.tensor(self.labels[idx], dtype=torch.float)\n"
     ]
    },
    {
     "name": "stdout",
     "output_type": "stream",
     "text": [
      "Acurácia: 58.72%\n",
      "Treinando com embedding_dim=50, lr=0.01\n",
      "Acurácia: 61.09%\n",
      "Treinando com embedding_dim=100, lr=0.001\n",
      "Acurácia: 58.97%\n",
      "Treinando com embedding_dim=100, lr=0.01\n",
      "Acurácia: 60.75%\n",
      "   embedding_dim     lr  accuracy\n",
      "0             50  0.001  0.587240\n",
      "1             50  0.010  0.610923\n",
      "2            100  0.001  0.589657\n",
      "3            100  0.010  0.607540\n"
     ]
    }
   ],
   "source": [
    "\"\"\"\n",
    "Soluções dos Exercícios do notebook 02-end_to_end_neural_networks.ipynb (v4)\n",
    "Requisitos:\n",
    "- instale sentencepiece: pip install sentencepiece\n",
    "- execute o bloco acima para definir train_loader/test_loader\n",
    "- carregue o tokenizer SentencePiece em `sp` e o modelo original em `model`\n",
    "\"\"\"\n",
    "\n",
    "import torch\n",
    "import torch.nn as nn\n",
    "import torch.optim as optim\n",
    "from sklearn.decomposition import PCA\n",
    "import matplotlib.pyplot as plt\n",
    "import pandas as pd\n",
    "\n",
    "device = torch.device(\"cuda\" if torch.cuda.is_available() else \"cpu\")\n",
    "\n",
    "def treinar(modelo, loader, otimizador, criterio, device):\n",
    "    modelo.train()\n",
    "    total_loss = 0.0\n",
    "    for dados, rotulos in loader:\n",
    "        dados, rotulos = dados.to(device), rotulos.to(device)\n",
    "        otimizador.zero_grad()\n",
    "        saidas = modelo(dados)\n",
    "        loss = criterio(saidas.flatten(), rotulos.flatten().float())\n",
    "        loss.backward()\n",
    "        otimizador.step()\n",
    "        total_loss += loss.item()\n",
    "    return total_loss / len(loader)\n",
    "\n",
    "def avaliar(modelo, loader, device):\n",
    "    modelo.eval()\n",
    "    correto = 0\n",
    "    total = 0\n",
    "    with torch.no_grad():\n",
    "        for dados, rotulos in loader:\n",
    "            dados, rotulos = dados.to(device), rotulos.to(device)\n",
    "            saidas = modelo(dados)\n",
    "            pred = torch.sigmoid(saidas).flatten() >= 0.5\n",
    "            correto += (pred == rotulos.flatten()).sum().item()\n",
    "            total += rotulos.numel()\n",
    "    return correto / total\n",
    "\n",
    "vocab_size    = sp.get_piece_size()\n",
    "embedding_dim = 100  # conforme treino original\n",
    "\n",
    "# Exercício 1 - Visualizando Embeddings\n",
    "embeddings = model.embedding.weight.data.cpu().numpy()\n",
    "vocab = [sp.id_to_piece(i) for i in range(vocab_size)]\n",
    "pca = PCA(n_components=2)\n",
    "emb_2d = pca.fit_transform(embeddings)\n",
    "\n",
    "plt.figure(figsize=(10,10))\n",
    "plt.scatter(emb_2d[:,0], emb_2d[:,1], alpha=0.7)\n",
    "for i, token in enumerate(vocab):\n",
    "    plt.annotate(token, (emb_2d[i,0], emb_2d[i,1]), fontsize=6)\n",
    "plt.title(\"PCA dos Embeddings de Palavras\")\n",
    "plt.show()\n",
    "\n",
    "# Exercício 2 - Otimização Adicional\n",
    "param_grid = {'embedding_dim': [50, 100], 'lr': [0.001, 0.01]}\n",
    "results = []\n",
    "for emb_dim in param_grid['embedding_dim']:\n",
    "    for lr in param_grid['lr']:\n",
    "        print(f\"Treinando com embedding_dim={emb_dim}, lr={lr}\")\n",
    "        model_tmp = SimpleClassifier(vocab_size, emb_dim).to(device)\n",
    "        optimizer_tmp = optim.Adam(model_tmp.parameters(), lr=lr)\n",
    "        criterio = nn.BCEWithLogitsLoss()\n",
    "        for epoch in range(3):\n",
    "            treinar(model_tmp, train_loader, optimizer_tmp, criterio, device)\n",
    "        acc = avaliar(model_tmp, test_loader, device)\n",
    "        print(f\"Acurácia: {acc*100:.2f}%\")\n",
    "        results.append({'embedding_dim': emb_dim, 'lr': lr, 'accuracy': acc})\n",
    "\n",
    "df_results = pd.DataFrame(results)\n",
    "print(df_results)"
   ]
  },
  {
   "cell_type": "markdown",
   "id": "2e6bce6a",
   "metadata": {},
   "source": [
    "\n",
    "### 3 - Advanced modelling\n",
    "\n",
    "Change the `forward` method in `SimpleClassifier` so that the mean only accounts for non-PAD tokens (that is: PAD tokens are ignored). Does that improve performance?"
   ]
  },
  {
   "cell_type": "code",
   "execution_count": 34,
   "id": "50fcb7bb",
   "metadata": {},
   "outputs": [],
   "source": [
    "class SimpleClassifierComMask(nn.Module):\n",
    "    def __init__(self, vocab_size, embedding_dim, padding_idx):\n",
    "        super().__init__()\n",
    "        self.embedding = nn.Embedding(\n",
    "            num_embeddings=vocab_size,\n",
    "            embedding_dim=embedding_dim,\n",
    "            padding_idx=padding_idx\n",
    "        )\n",
    "        self.clf = nn.Linear(embedding_dim, 1)\n",
    "        self.padding_idx = padding_idx\n",
    "\n",
    "    def forward(self, x):\n",
    "        # x: [batch, seq_len]\n",
    "        emb = self.embedding(x)                 # [B, L, D]\n",
    "        mask = (x != self.padding_idx).unsqueeze(-1).float()  # [B, L, 1]\n",
    "        emb = emb * mask                        # zera pads\n",
    "        soma = emb.sum(dim=1)                   # soma só dos não-pad\n",
    "        comprimentos = mask.sum(dim=1).clamp(min=1)  # nº de tokens reais\n",
    "        media = soma / comprimentos             # média correta\n",
    "        return self.clf(media)                  # [B,1]"
   ]
  },
  {
   "cell_type": "code",
   "execution_count": 35,
   "id": "744eb0da",
   "metadata": {},
   "outputs": [
    {
     "name": "stderr",
     "output_type": "stream",
     "text": [
      "/var/folders/_m/_ly2lwsd3mlfswbbkk3y6l4h0000gn/T/ipykernel_56385/1194285564.py:28: UserWarning: To copy construct from a tensor, it is recommended to use sourceTensor.clone().detach() or sourceTensor.clone().detach().requires_grad_(True), rather than torch.tensor(sourceTensor).\n",
      "  y = torch.tensor(self.labels[idx], dtype=torch.float)\n"
     ]
    },
    {
     "name": "stdout",
     "output_type": "stream",
     "text": [
      "Época 1/5 — Loss: 0.6775\n",
      "Época 2/5 — Loss: 0.6741\n",
      "Época 3/5 — Loss: 0.6705\n",
      "Época 4/5 — Loss: 0.6677\n",
      "Época 5/5 — Loss: 0.6658\n",
      "Acurácia (Modelagem Avançada c/ máscara): 60.32%\n"
     ]
    }
   ],
   "source": [
    "# Exercício 3 – Modelagem Avançada (ignorando padding na média de embeddings)\n",
    "\n",
    "# 1. Defina o modelo com máscara de padding\n",
    "model_mask = SimpleClassifierComMask(\n",
    "    vocab_size=vocab_size,\n",
    "    embedding_dim=embedding_dim,\n",
    "    padding_idx=padding_idx\n",
    ").to(device)\n",
    "\n",
    "# 2. Otimizador e critério de perda padrão\n",
    "optimizer_mask = optim.Adam(model_mask.parameters(), lr=0.001)\n",
    "criterion_mask  = nn.BCEWithLogitsLoss()\n",
    "\n",
    "# 3. Treinamento (por exemplo, 5 épocas)\n",
    "num_epochs = 5\n",
    "for epoch in range(1, num_epochs+1):\n",
    "    loss_epoch = treinar(model_mask, train_loader, optimizer_mask, criterion_mask, device)\n",
    "    print(f'Época {epoch}/{num_epochs} — Loss: {loss_epoch:.4f}')\n",
    "\n",
    "# 4. Avaliação\n",
    "acc_mask = avaliar(model_mask, test_loader, device)\n",
    "print(f'Acurácia (Modelagem Avançada c/ máscara): {acc_mask*100:.2f}%')"
   ]
  },
  {
   "cell_type": "markdown",
   "id": "1cf934ae",
   "metadata": {},
   "source": [
    "Ótimo trabalho! Vamos destrinchar rapidamente o que esses números significam e como você pode melhorar ainda mais:\n",
    "\n",
    "⸻\n",
    "\n",
    "Exercício 2 – Otimização Adicional\n",
    "\n",
    "embedding_dim\tlr\taccuracy\n",
    "50\t0.001\t58.72%\n",
    "50\t0.010\t61.09% ← melhor resultado\n",
    "100\t0.001\t58.97%\n",
    "100\t0.010\t60.75%\n",
    "\n",
    "\t•\tDimensão menor (50) + lr maior (0.01) foi o ganhador.\n",
    "\t•\tAprender com taxa de 0.01 acelera a convergência nesses embeddings reduzidos, mas cuidado: acima de 0.01 pode começar a oscilar.\n",
    "\t•\tO fato de 100 dims não superar 50 dims sugere que, para este conjunto, você talvez esteja over‑fitting ou tenha dados insuficientes para treinar vetores maiores.\n",
    "\n",
    "Próximos passos\n",
    "\t•\tTestar valores intermediários, por exemplo embedding_dim = 75.\n",
    "\t•\tExplorar lr entre 0.005 e 0.02 para confirmar a “janela” ótima.\n",
    "\t•\tAumentar epochs ou usar early stopping para ver se 50 dims tem mais potencial.\n",
    "\n",
    "⸻\n",
    "\n",
    "Exercício 3 – Modelagem Avançada com Máscara de Padding\n",
    "\n",
    "Você treinou um modelo que ignora os tokens de padding ao calcular a média dos embeddings. Os resultados:\n",
    "\n",
    "Época 1/5 — Loss: 0.6775\n",
    "Época 2/5 — Loss: 0.6741\n",
    "Época 3/5 — Loss: 0.6705\n",
    "Época 4/5 — Loss: 0.6677\n",
    "Época 5/5 — Loss: 0.6658\n",
    "Acurácia: 60.32%\n",
    "\n",
    "\t•\tA curva de perda decresceu de forma consistente, confirmando que o modelo está aprendendo.\n",
    "\t•\tA acurácia de 60.32% fica entre as melhores opções do exercício 2 (61.09% e 60.75%), o que faz sentido: ignorar padding melhora ligeiramente a qualidade do sinal, mas não transforma radicalmente o poder do modelo.\n",
    "\n",
    "Ideias para ganhar mais pontos aqui\n",
    "\t1.\tAprofundar a arquitetura: use uma ou duas camadas escondidas após a média dos embeddings (por exemplo nn.Linear(embedding_dim, 32) → ReLU → Linear(32,1)).\n",
    "\t2.\tRegularização: adicione Dropout antes da camada final ou peso L2 no otimizador (weight_decay).\n",
    "\t3.\tMais epochs + scheduler: treine por mais épocas e use um scheduler (por ex. ReduceLROnPlateau) para reduzir lr conforme a perda se estabiliza.\n",
    "\n",
    "⸻\n",
    "\n",
    "Sobre o UserWarning no Dataset\n",
    "\n",
    "UserWarning: To copy construct from a tensor, it is recommended to use sourceTensor.clone().detach()...\n",
    "\n",
    "Esse aviso aparece porque você estava fazendo y = torch.tensor(self.labels[idx], ...) mesmo quando self.labels[idx] já era um tensor. Para eliminar o warning, ajuste seu __getitem__ assim:\n",
    "\n",
    "    def __getitem__(self, idx):\n",
    "        # ... tokenização e padding ...\n",
    "        x = torch.tensor(tokens, dtype=torch.long)\n",
    "        label = self.labels[idx]\n",
    "        # Se já for tensor, use clone+float, senão converta normalmente\n",
    "        if isinstance(label, torch.Tensor):\n",
    "            y = label.clone().detach().float()\n",
    "        else:\n",
    "            y = torch.tensor(label, dtype=torch.float)\n",
    "        return x, y\n",
    "\n",
    "Isso garante que o PyTorch não fique duplicando tensores desnecessariamente.\n",
    "\n",
    "⸻\n",
    "\n",
    "Se precisar de ajuda para implementar algum desses refinamentos ou rodar mais experimentos, é só dizer!"
   ]
  },
  {
   "cell_type": "code",
   "execution_count": null,
   "id": "e4944d8e",
   "metadata": {},
   "outputs": [],
   "source": []
  },
  {
   "cell_type": "code",
   "execution_count": null,
   "id": "f3d094e8",
   "metadata": {},
   "outputs": [],
   "source": []
  }
 ],
 "metadata": {
  "kernelspec": {
   "display_name": "venv",
   "language": "python",
   "name": "python3"
  },
  "language_info": {
   "codemirror_mode": {
    "name": "ipython",
    "version": 3
   },
   "file_extension": ".py",
   "mimetype": "text/x-python",
   "name": "python",
   "nbconvert_exporter": "python",
   "pygments_lexer": "ipython3",
   "version": "3.10.11"
  }
 },
 "nbformat": 4,
 "nbformat_minor": 5
}
