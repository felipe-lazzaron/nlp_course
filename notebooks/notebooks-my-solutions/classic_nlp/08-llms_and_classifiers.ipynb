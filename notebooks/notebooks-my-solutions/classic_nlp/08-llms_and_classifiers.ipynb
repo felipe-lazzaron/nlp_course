{
 "cells": [
  {
   "cell_type": "markdown",
   "metadata": {},
   "source": [
    "# TEST 1: Leveraging LLMs for Feature Generation and Classification\n",
    "\n",
    "Typically, if our data has $N$ features, we need around $10N$ data items to reach peak performance with classic classifiers like Logistic Regression. Therefore, if our vocabulary has 10,000 words, we would need around 1 million items in the training set to reach peak performance.\n",
    "\n",
    "An interesting idea regarding this was explored in 2024 in [Balek, V., S'ykora, L., Sklen'ak, V., & Kliegr, T. (2024). LLM-based feature generation from text for interpretable machine learning. ArXiv, abs/2409.07132](https://arxiv.org/abs/2409.07132). The idea is to use an LLM to generate meaningful and interpretable features from text, and then use Logistic Regression for classification.\n",
    "\n",
    "For example, in the movie plots dataset, we could have features like:\n",
    "- \"Is the protagonist an animal?\" (0 or 1)\n",
    "- \"Does the plot indicate psychological suffering?\" (0 or 1)\n",
    "\n",
    "With a reasonable number of these features, our model could make predictions based on meaningful features instead of raw words.\n",
    "\n",
    "## Objectives\n",
    "* Perform feature extraction for a particular dataset\n",
    "* Compare performance and explainability of classifiers with different approaches. \n",
    "\n",
    "## Rules\n",
    "\n",
    "I highlight a few elements of our usual rules:\n",
    "\n",
    "* You are **NOT ALLOWED** to use AI to generate any code you are asked to make yourself. This includes ChatGPT, CoPilot and all similar generators.\n",
    "* You are **NOT ALLOWED** to use Google or any other search engine.\n",
    "* You are **ALLOWED** to use the offical documentations for libraries: \n",
    "    * [sklearn](https://scikit-learn.org/)\n",
    "    * [numpy](https://numpy.org/)\n",
    "    * [matplotlib](https://matplotlib.org/)\n",
    "    * [google AI studio](https://aistudio.google.com/)\n",
    "* You are **ALLOWED** to use previous code from this course as basis.\n",
    "* You **MUST** use the university's proctoring software to show you are complying with these rules\n",
    "* This task is **INDIVIDUAL**. DO NOT share your code or results with anyone else."
   ]
  },
  {
   "cell_type": "markdown",
   "metadata": {},
   "source": [
    "## Tasks and Deliverables\n",
    "\n",
    "* At any point, refer to [Balek et al.](https://arxiv.org/abs/2409.07132). \n",
    "* Make a well-commented code to solve each one of the tasks below.\n",
    "* Each task will be evaluated as:\n",
    "    * Insufficient: task is not done, off-topic, or low-effort\n",
    "    * In process: task is incomplete, done with a clear conceptual error, or comments \n",
    "    * Proficient: everything works and comments are enough to understand what is being done\n",
    "    * Advanced: everything works, comments are enough to understand what is being done, and code is well organized and formated using functions, dataclasses, and other adequate structures.\n",
    "* This task should be finished by the end of the class.\n",
    "* After you are finished, submit the executed notebook in our LMS system."
   ]
  },
  {
   "cell_type": "markdown",
   "metadata": {},
   "source": [
    "<div style=\"background-color: #f2f2f2; color: #000;\">\n",
    "\n",
    "\n",
    "TESTE 1: Aproveitando LLMs para Geração de Recursos (Features) e Classificação\n",
    "\n",
    "Normalmente, se nosso conjunto de dados possui N recursos (features), precisamos de aproximadamente 10N itens de dados para atingir desempenho máximo com classificadores clássicos como Regressão Logística. Portanto, se nosso vocabulário tiver 10.000 palavras, precisaríamos de cerca de 1 milhão de itens no conjunto de treinamento para alcançar esse desempenho máximo.\n",
    "\n",
    "Uma ideia interessante sobre isso foi explorada em 2024 em Balek, V., S’ykora, L., Sklen’ak, V., & Kliegr, T. (2024). LLM-based feature generation from text for interpretable machine learning. ArXiv, abs/2409.07132. A ideia é usar um LLM para gerar recursos significativos e interpretáveis a partir de textos e, em seguida, utilizar Regressão Logística para classificação.\n",
    "\n",
    "Por exemplo, no conjunto de dados de enredos de filmes, poderíamos ter recursos como:\n",
    "\t•\t“O protagonista é um animal?” (0 ou 1)\n",
    "\t•\t“O enredo indica sofrimento psicológico?” (0 ou 1)\n",
    "\n",
    "Com um número razoável desses recursos, nosso modelo poderia fazer previsões com base em recursos mais significativos em vez de apenas palavras brutas.\n",
    "\n",
    "Objetivos\n",
    "\t•\tRealizar extração de recursos (features) para um conjunto de dados específico\n",
    "\t•\tComparar desempenho e interpretabilidade de classificadores com diferentes abordagens\n",
    "\n",
    "Regras\n",
    "\n",
    "Destaco alguns elementos das nossas regras usuais:\n",
    "\t•\tVocê NÃO PODE usar IA para gerar qualquer código que lhe seja solicitado criar. Isso inclui ChatGPT, CoPilot e todos os geradores semelhantes.\n",
    "\t•\tVocê NÃO PODE usar Google ou qualquer outro mecanismo de busca.\n",
    "\t•\tVocê PODE usar a documentação oficial das bibliotecas:\n",
    "\t•\tsklearn\n",
    "\t•\tnumpy\n",
    "\t•\tmatplotlib\n",
    "\t•\tgoogle AI studio\n",
    "\t•\tVocê PODE usar códigos anteriores deste curso como base.\n",
    "\t•\tVocê DEVE usar o software de monitoramento (proctoring) da universidade para mostrar que está cumprindo essas regras.\n",
    "\t•\tEsta tarefa é INDIVIDUAL. NÃO compartilhe seu código ou resultados com mais ninguém.\n",
    "\n",
    "Tarefas e Entregáveis\n",
    "\t•\tEm qualquer ponto, consulte Balek et al..\n",
    "\t•\tCrie um código bem comentado para resolver cada uma das tarefas abaixo.\n",
    "\t•\tCada tarefa será avaliada como:\n",
    "\t•\tInsuficiente: tarefa não foi feita, está fora do tema ou com esforço muito baixo\n",
    "\t•\tEm processo: tarefa incompleta, com erro conceitual claro ou comentários insuficientes\n",
    "\t•\tProficiente: tudo funciona e os comentários são suficientes para entender o que está sendo feito\n",
    "\t•\tAvançado: tudo funciona, comentários são suficientes para entender o que está sendo feito e o código é bem organizado e formatado, usando funções, dataclasses e outras estruturas adequadas.\n",
    "\t•\tEsta tarefa deve ser finalizada até o fim da aula.\n",
    "\t•\tApós finalizar, envie o notebook executado no nosso sistema de LMS.\n",
    "\n",
    "1. Preparação do Conjunto de Dados:\n",
    "\n",
    "Adaptando a estratégia de Balek et al. para nosso caso de classificação de enredos de filmes, crie um conjunto de dados com pelo menos 100 itens rotulados e pelo menos 5 recursos significativos. Nenhum dos recursos pode ser a própria classe (“este enredo é de drama?”). Use uma estratégia clara para não exceder cotas de uso gratuito. Armazene os dados localmente no formato de sua escolha.\n",
    "\n",
    "Use GEMINI_API_KEY se necessário.\n",
    "\n",
    "</div>\n"
   ]
  },
  {
   "cell_type": "markdown",
   "metadata": {},
   "source": [
    "### 1. Dataset Preparation:\n",
    "Adapting Balek et al.'s strategy to our movie plot classification case, create a dataset with at least 100 labeled items and at least 5 meaningful features. None of the features can be the class itself (\"is this a drama plot?\"). Use a clear strategy to avoid exceeding free tier quotas. Store data locally in a format of your choice."
   ]
  },
  {
   "cell_type": "code",
   "execution_count": 6,
   "metadata": {},
   "outputs": [
    {
     "name": "stderr",
     "output_type": "stream",
     "text": [
      "Processando enredos:  17%|█▋        | 17/100 [00:31<02:33,  1.85s/it]"
     ]
    },
    {
     "name": "stdout",
     "output_type": "stream",
     "text": [
      "[Erro] Tentativa 1 falhou: 429 Resource has been exhausted (e.g. check quota).\n"
     ]
    },
    {
     "name": "stderr",
     "output_type": "stream",
     "text": [
      "Processando enredos:  19%|█▉        | 19/100 [00:37<03:02,  2.25s/it]"
     ]
    },
    {
     "name": "stdout",
     "output_type": "stream",
     "text": [
      "[Erro] Tentativa 1 falhou: 429 Resource has been exhausted (e.g. check quota).\n"
     ]
    },
    {
     "name": "stderr",
     "output_type": "stream",
     "text": [
      "Processando enredos:  21%|██        | 21/100 [00:43<03:18,  2.51s/it]"
     ]
    },
    {
     "name": "stdout",
     "output_type": "stream",
     "text": [
      "[Erro] Tentativa 1 falhou: 429 Resource has been exhausted (e.g. check quota).\n"
     ]
    },
    {
     "name": "stderr",
     "output_type": "stream",
     "text": [
      "Processando enredos:  22%|██▏       | 22/100 [00:47<03:48,  2.93s/it]"
     ]
    },
    {
     "name": "stdout",
     "output_type": "stream",
     "text": [
      "[Erro] Tentativa 1 falhou: 429 Resource has been exhausted (e.g. check quota).\n"
     ]
    },
    {
     "name": "stderr",
     "output_type": "stream",
     "text": [
      "Processando enredos:  23%|██▎       | 23/100 [00:51<04:09,  3.24s/it]"
     ]
    },
    {
     "name": "stdout",
     "output_type": "stream",
     "text": [
      "[Erro] Tentativa 1 falhou: 429 Resource has been exhausted (e.g. check quota).\n",
      "[Erro] Tentativa 2 falhou: 429 Resource has been exhausted (e.g. check quota).\n",
      "[Erro] Tentativa 3 falhou: 429 Resource has been exhausted (e.g. check quota).\n",
      "[Erro] Todas as tentativas falharam. Retornando valores padrão zerados.\n"
     ]
    },
    {
     "name": "stderr",
     "output_type": "stream",
     "text": [
      "Processando enredos:  39%|███▉      | 39/100 [01:25<01:48,  1.78s/it]"
     ]
    },
    {
     "name": "stdout",
     "output_type": "stream",
     "text": [
      "[Erro] Tentativa 1 falhou: 429 Resource has been exhausted (e.g. check quota).\n"
     ]
    },
    {
     "name": "stderr",
     "output_type": "stream",
     "text": [
      "Processando enredos:  42%|████▏     | 42/100 [01:33<02:01,  2.10s/it]"
     ]
    },
    {
     "name": "stdout",
     "output_type": "stream",
     "text": [
      "[Erro] Tentativa 1 falhou: 429 Resource has been exhausted (e.g. check quota).\n",
      "[Erro] Tentativa 2 falhou: 429 Resource has been exhausted (e.g. check quota).\n"
     ]
    },
    {
     "name": "stderr",
     "output_type": "stream",
     "text": [
      "Processando enredos:  44%|████▍     | 44/100 [01:41<02:40,  2.87s/it]"
     ]
    },
    {
     "name": "stdout",
     "output_type": "stream",
     "text": [
      "[Erro] Tentativa 1 falhou: 429 Resource has been exhausted (e.g. check quota).\n",
      "[Erro] Tentativa 2 falhou: 429 Resource has been exhausted (e.g. check quota).\n",
      "[Erro] Tentativa 3 falhou: 429 Resource has been exhausted (e.g. check quota).\n",
      "[Erro] Todas as tentativas falharam. Retornando valores padrão zerados.\n"
     ]
    },
    {
     "name": "stderr",
     "output_type": "stream",
     "text": [
      "Processando enredos:  46%|████▌     | 46/100 [01:50<03:10,  3.53s/it]"
     ]
    },
    {
     "name": "stdout",
     "output_type": "stream",
     "text": [
      "[Erro] Tentativa 1 falhou: 429 Resource has been exhausted (e.g. check quota).\n",
      "[Erro] Tentativa 2 falhou: 429 Resource has been exhausted (e.g. check quota).\n",
      "[Erro] Tentativa 3 falhou: 429 Resource has been exhausted (e.g. check quota).\n",
      "[Erro] Todas as tentativas falharam. Retornando valores padrão zerados.\n"
     ]
    },
    {
     "name": "stderr",
     "output_type": "stream",
     "text": [
      "Processando enredos:  68%|██████▊   | 68/100 [02:35<00:56,  1.75s/it]"
     ]
    },
    {
     "name": "stdout",
     "output_type": "stream",
     "text": [
      "[Erro] Tentativa 1 falhou: 429 Resource has been exhausted (e.g. check quota).\n"
     ]
    },
    {
     "name": "stderr",
     "output_type": "stream",
     "text": [
      "Processando enredos:  69%|██████▉   | 69/100 [02:38<01:14,  2.39s/it]"
     ]
    },
    {
     "name": "stdout",
     "output_type": "stream",
     "text": [
      "[Erro] Tentativa 1 falhou: 429 Resource has been exhausted (e.g. check quota).\n",
      "[Erro] Tentativa 2 falhou: 429 Resource has been exhausted (e.g. check quota).\n",
      "[Erro] Tentativa 3 falhou: 429 Resource has been exhausted (e.g. check quota).\n",
      "[Erro] Todas as tentativas falharam. Retornando valores padrão zerados.\n"
     ]
    },
    {
     "name": "stderr",
     "output_type": "stream",
     "text": [
      "Processando enredos:  70%|███████   | 70/100 [02:46<01:57,  3.92s/it]"
     ]
    },
    {
     "name": "stdout",
     "output_type": "stream",
     "text": [
      "[Erro] Tentativa 1 falhou: 429 Resource has been exhausted (e.g. check quota).\n",
      "[Erro] Tentativa 2 falhou: 429 Resource has been exhausted (e.g. check quota).\n",
      "[Erro] Tentativa 3 falhou: 429 Resource has been exhausted (e.g. check quota).\n",
      "[Erro] Todas as tentativas falharam. Retornando valores padrão zerados.\n"
     ]
    },
    {
     "name": "stderr",
     "output_type": "stream",
     "text": [
      "Processando enredos:  72%|███████▏  | 72/100 [02:55<01:52,  4.01s/it]"
     ]
    },
    {
     "name": "stdout",
     "output_type": "stream",
     "text": [
      "[Erro] Tentativa 1 falhou: 429 Resource has been exhausted (e.g. check quota).\n"
     ]
    },
    {
     "name": "stderr",
     "output_type": "stream",
     "text": [
      "Processando enredos:  91%|█████████ | 91/100 [03:31<00:15,  1.75s/it]"
     ]
    },
    {
     "name": "stdout",
     "output_type": "stream",
     "text": [
      "[Erro] Tentativa 1 falhou: 429 Resource has been exhausted (e.g. check quota).\n"
     ]
    },
    {
     "name": "stderr",
     "output_type": "stream",
     "text": [
      "Processando enredos:  93%|█████████▎| 93/100 [03:36<00:15,  2.19s/it]"
     ]
    },
    {
     "name": "stdout",
     "output_type": "stream",
     "text": [
      "[Erro] Tentativa 1 falhou: 429 Resource has been exhausted (e.g. check quota).\n",
      "[Erro] Tentativa 2 falhou: 429 Resource has been exhausted (e.g. check quota).\n"
     ]
    },
    {
     "name": "stderr",
     "output_type": "stream",
     "text": [
      "Processando enredos:  94%|█████████▍| 94/100 [03:42<00:20,  3.38s/it]"
     ]
    },
    {
     "name": "stdout",
     "output_type": "stream",
     "text": [
      "[Erro] Tentativa 1 falhou: 429 Resource has been exhausted (e.g. check quota).\n",
      "[Erro] Tentativa 2 falhou: 429 Resource has been exhausted (e.g. check quota).\n",
      "[Erro] Tentativa 3 falhou: 429 Resource has been exhausted (e.g. check quota).\n",
      "[Erro] Todas as tentativas falharam. Retornando valores padrão zerados.\n"
     ]
    },
    {
     "name": "stderr",
     "output_type": "stream",
     "text": [
      "Processando enredos:  95%|█████████▌| 95/100 [03:50<00:23,  4.61s/it]"
     ]
    },
    {
     "name": "stdout",
     "output_type": "stream",
     "text": [
      "[Erro] Tentativa 1 falhou: 429 Resource has been exhausted (e.g. check quota).\n",
      "[Erro] Tentativa 2 falhou: 429 Resource has been exhausted (e.g. check quota).\n",
      "[Erro] Tentativa 3 falhou: 429 Resource has been exhausted (e.g. check quota).\n",
      "[Erro] Todas as tentativas falharam. Retornando valores padrão zerados.\n"
     ]
    },
    {
     "name": "stderr",
     "output_type": "stream",
     "text": [
      "Processando enredos:  96%|█████████▌| 96/100 [03:57<00:21,  5.47s/it]"
     ]
    },
    {
     "name": "stdout",
     "output_type": "stream",
     "text": [
      "[Erro] Tentativa 1 falhou: 429 Resource has been exhausted (e.g. check quota).\n"
     ]
    },
    {
     "name": "stderr",
     "output_type": "stream",
     "text": [
      "Processando enredos: 100%|██████████| 100/100 [04:07<00:00,  2.47s/it]"
     ]
    },
    {
     "name": "stdout",
     "output_type": "stream",
     "text": [
      "Dataset com features geradas salvo como 'movie_plots_features.csv'.\n"
     ]
    },
    {
     "name": "stderr",
     "output_type": "stream",
     "text": [
      "\n"
     ]
    }
   ],
   "source": [
    "import os\n",
    "import time\n",
    "import json\n",
    "import pandas as pd\n",
    "from dotenv import load_dotenv\n",
    "import google.generativeai as genai\n",
    "from tqdm import tqdm\n",
    "\n",
    "# Carrega a chave da API GEMINI dos environment variables\n",
    "load_dotenv()\n",
    "GEMINI_API_KEY = os.getenv('GEMINI_API_KEY')\n",
    "if GEMINI_API_KEY is None:\n",
    "    raise ValueError(\"GEMINI_API_KEY não está definido nas variáveis de ambiente.\")\n",
    "\n",
    "# Configura o client da API\n",
    "genai.configure(api_key=GEMINI_API_KEY)\n",
    "\n",
    "def clean_response_text(text: str) -> str:\n",
    "    \"\"\"\n",
    "    Remove delimitadores de bloco de código (ex: ```json ... ```) da resposta,\n",
    "    se presentes.\n",
    "    \"\"\"\n",
    "    text = text.strip()\n",
    "    if text.startswith(\"```\"):\n",
    "        lines = text.splitlines()\n",
    "        if lines[0].startswith(\"```\"):\n",
    "            lines = lines[1:]\n",
    "        if lines and lines[-1].startswith(\"```\"):\n",
    "            lines = lines[:-1]\n",
    "        text = \"\\n\".join(lines).strip()\n",
    "    return text\n",
    "\n",
    "def generate_features(plot: str) -> dict:\n",
    "    \"\"\"\n",
    "    Dado um enredo de filme, essa função consulta o LLM para gerar um objeto JSON\n",
    "    com 5 features definidas.\n",
    "    \n",
    "    Em caso de falha (por exemplo, resposta vazia ou erro de parsing), a função tenta novamente\n",
    "    até 3 vezes (levando em conta as limitações inerentes à conta free do Gemini).\n",
    "    \n",
    "    Se todas as tentativas falharem, retorna valores padrão (zeros).\n",
    "    \n",
    "    Apenas gera log (print) em caso de erro.\n",
    "    \"\"\"\n",
    "    prompt = (\n",
    "        \"Generate a JSON object with 5 features extracted from the following movie plot. \"\n",
    "        \"Do not include any feature that indicates the plot's class. Use the following keys and definitions:\\n\"\n",
    "        \"- 'protagonist_is_animal': 1 if the protagonist is an animal, else 0.\\n\"\n",
    "        \"- 'psychological_suffering': 1 if the plot indicates psychological suffering, else 0.\\n\"\n",
    "        \"- 'romantic_element': 1 if the plot includes a romantic element, else 0.\\n\"\n",
    "        \"- 'action_intensity': an integer from 0 (low action) to 10 (high action).\\n\"\n",
    "        \"- 'mystery_presence': 1 if the plot includes a mystery element, else 0.\\n\"\n",
    "        \"Provide only the JSON object.\\n\"\n",
    "        \"Plot: \" + plot\n",
    "    )\n",
    "    \n",
    "    generation_config = genai.GenerationConfig(\n",
    "        max_output_tokens=100,\n",
    "        temperature=0.0,\n",
    "    )\n",
    "    \n",
    "    model = genai.GenerativeModel(model_name=\"gemini-1.5-flash\")\n",
    "    \n",
    "    required_keys = [\n",
    "        \"protagonist_is_animal\",\n",
    "        \"psychological_suffering\",\n",
    "        \"romantic_element\",\n",
    "        \"action_intensity\",\n",
    "        \"mystery_presence\"\n",
    "    ]\n",
    "    \n",
    "    max_attempts = 3\n",
    "    for attempt in range(1, max_attempts + 1):\n",
    "        try:\n",
    "            response = model.generate_content(prompt, generation_config=generation_config)\n",
    "            response_text = response.text.strip()\n",
    "            response_text = clean_response_text(response_text)\n",
    "            \n",
    "            if not response_text:\n",
    "                raise ValueError(\"Resposta vazia da API\")\n",
    "            \n",
    "            features = json.loads(response_text)\n",
    "            for key in required_keys:\n",
    "                if key not in features:\n",
    "                    raise ValueError(f\"Chave '{key}' ausente na resposta: {features}\")\n",
    "            return features\n",
    "        \n",
    "        except Exception as e:\n",
    "            print(f\"[Erro] Tentativa {attempt} falhou: {e}\")\n",
    "            time.sleep(2)\n",
    "    \n",
    "    # Se todas as tentativas falharem, retorna valores padrão zerados\n",
    "    print(\"[Erro] Todas as tentativas falharam. Retornando valores padrão zerados.\")\n",
    "    return {\n",
    "        \"protagonist_is_animal\": 0,\n",
    "        \"psychological_suffering\": 0,\n",
    "        \"romantic_element\": 0,\n",
    "        \"action_intensity\": 0,\n",
    "        \"mystery_presence\": 0\n",
    "    }\n",
    "\n",
    "# Carrega o dataset de enredos de filmes\n",
    "df = pd.read_csv('https://raw.githubusercontent.com/tiagoft/NLP/main/wiki_movie_plots_drama_comedy.csv')\n",
    "\n",
    "# Seleciona os 100 primeiros itens para a amostra\n",
    "df_sample = df.head(100).copy()\n",
    "\n",
    "# Inicializa uma lista para armazenar os dicionários de features\n",
    "features_list = []\n",
    "\n",
    "# Utiliza tqdm para exibir uma barra de progresso durante o processamento\n",
    "for idx, row in tqdm(df_sample.iterrows(), total=len(df_sample), desc=\"Processando enredos\"):\n",
    "    plot = row['Plot']\n",
    "    features = generate_features(plot)\n",
    "    features_list.append(features)\n",
    "    time.sleep(1)  # Pausa para evitar exceder as limitações da conta free\n",
    "\n",
    "# Converte a lista de dicionários em um DataFrame\n",
    "df_features = pd.DataFrame(features_list)\n",
    "\n",
    "# Adiciona as colunas originais de enredo e gênero para referência\n",
    "df_features['Plot'] = df_sample['Plot'].values\n",
    "df_features['Genre'] = df_sample['Genre'].values\n",
    "\n",
    "# Salva o dataset resultante localmente como um arquivo CSV\n",
    "df_features.to_csv(\"movie_plots_features.csv\", index=False)\n",
    "print(\"Dataset com features geradas salvo como 'movie_plots_features.csv'.\")"
   ]
  },
  {
   "cell_type": "code",
   "execution_count": 7,
   "metadata": {},
   "outputs": [
    {
     "data": {
      "text/plain": [
       "100"
      ]
     },
     "execution_count": 7,
     "metadata": {},
     "output_type": "execute_result"
    }
   ],
   "source": [
    "len(df_features)"
   ]
  },
  {
   "cell_type": "code",
   "execution_count": 8,
   "metadata": {},
   "outputs": [
    {
     "data": {
      "text/html": [
       "<div>\n",
       "<style scoped>\n",
       "    .dataframe tbody tr th:only-of-type {\n",
       "        vertical-align: middle;\n",
       "    }\n",
       "\n",
       "    .dataframe tbody tr th {\n",
       "        vertical-align: top;\n",
       "    }\n",
       "\n",
       "    .dataframe thead th {\n",
       "        text-align: right;\n",
       "    }\n",
       "</style>\n",
       "<table border=\"1\" class=\"dataframe\">\n",
       "  <thead>\n",
       "    <tr style=\"text-align: right;\">\n",
       "      <th></th>\n",
       "      <th>protagonist_is_animal</th>\n",
       "      <th>psychological_suffering</th>\n",
       "      <th>romantic_element</th>\n",
       "      <th>action_intensity</th>\n",
       "      <th>mystery_presence</th>\n",
       "      <th>Plot</th>\n",
       "      <th>Genre</th>\n",
       "    </tr>\n",
       "  </thead>\n",
       "  <tbody>\n",
       "    <tr>\n",
       "      <th>0</th>\n",
       "      <td>0</td>\n",
       "      <td>1</td>\n",
       "      <td>0</td>\n",
       "      <td>2</td>\n",
       "      <td>0</td>\n",
       "      <td>The film is about a family who move to the sub...</td>\n",
       "      <td>comedy</td>\n",
       "    </tr>\n",
       "    <tr>\n",
       "      <th>1</th>\n",
       "      <td>0</td>\n",
       "      <td>0</td>\n",
       "      <td>0</td>\n",
       "      <td>2</td>\n",
       "      <td>0</td>\n",
       "      <td>Before heading out to a baseball game at a nea...</td>\n",
       "      <td>comedy</td>\n",
       "    </tr>\n",
       "    <tr>\n",
       "      <th>2</th>\n",
       "      <td>0</td>\n",
       "      <td>0</td>\n",
       "      <td>0</td>\n",
       "      <td>2</td>\n",
       "      <td>0</td>\n",
       "      <td>The plot is that of a black woman going to the...</td>\n",
       "      <td>comedy</td>\n",
       "    </tr>\n",
       "    <tr>\n",
       "      <th>3</th>\n",
       "      <td>0</td>\n",
       "      <td>1</td>\n",
       "      <td>0</td>\n",
       "      <td>6</td>\n",
       "      <td>0</td>\n",
       "      <td>On a beautiful summer day a father and mother ...</td>\n",
       "      <td>drama</td>\n",
       "    </tr>\n",
       "    <tr>\n",
       "      <th>4</th>\n",
       "      <td>0</td>\n",
       "      <td>1</td>\n",
       "      <td>0</td>\n",
       "      <td>7</td>\n",
       "      <td>0</td>\n",
       "      <td>A thug accosts a girl as she leaves her workpl...</td>\n",
       "      <td>drama</td>\n",
       "    </tr>\n",
       "  </tbody>\n",
       "</table>\n",
       "</div>"
      ],
      "text/plain": [
       "   protagonist_is_animal  psychological_suffering  romantic_element  \\\n",
       "0                      0                        1                 0   \n",
       "1                      0                        0                 0   \n",
       "2                      0                        0                 0   \n",
       "3                      0                        1                 0   \n",
       "4                      0                        1                 0   \n",
       "\n",
       "   action_intensity  mystery_presence  \\\n",
       "0                 2                 0   \n",
       "1                 2                 0   \n",
       "2                 2                 0   \n",
       "3                 6                 0   \n",
       "4                 7                 0   \n",
       "\n",
       "                                                Plot   Genre  \n",
       "0  The film is about a family who move to the sub...  comedy  \n",
       "1  Before heading out to a baseball game at a nea...  comedy  \n",
       "2  The plot is that of a black woman going to the...  comedy  \n",
       "3  On a beautiful summer day a father and mother ...   drama  \n",
       "4  A thug accosts a girl as she leaves her workpl...   drama  "
      ]
     },
     "execution_count": 8,
     "metadata": {},
     "output_type": "execute_result"
    }
   ],
   "source": [
    "df_features.head()"
   ]
  },
  {
   "cell_type": "code",
   "execution_count": 9,
   "metadata": {},
   "outputs": [
    {
     "name": "stdout",
     "output_type": "stream",
     "text": [
      "\n",
      "Número de linhas com erro identificadas: 7\n",
      "\n",
      "Reprocessando enredos com erro...\n"
     ]
    },
    {
     "name": "stderr",
     "output_type": "stream",
     "text": [
      "  0%|          | 0/7 [00:00<?, ?it/s]"
     ]
    },
    {
     "name": "stdout",
     "output_type": "stream",
     "text": [
      "\n",
      "--- Tentativa 1 ---\n",
      "Prompt enviado:\n",
      "Generate a JSON object with 5 features extracted from the following movie plot. Do not include any feature that indicates the plot's class. Use the following keys and definitions:\n",
      "- 'protagonist_is_animal': 1 if the protagonist is an animal, else 0.\n",
      "- 'psychological_suffering': 1 if the plot indicates psychological suffering, else 0.\n",
      "- 'romantic_element': 1 if the plot includes a romantic element, else 0.\n",
      "- 'action_intensity': an integer from 0 (low action) to 10 (high action).\n",
      "- 'mystery_presence': 1 if the plot includes a mystery element, else 0.\n",
      "Provide only the JSON object.\n",
      "Plot: Bob, a typically devoted husband, is told by his wife that the stork has paid a visit to their household; the first time, it turns out to be a puppy; the second time, expecting another canine, he is surprised to find the more traditional offspring.\n"
     ]
    },
    {
     "name": "stderr",
     "output_type": "stream",
     "text": [
      " 14%|█▍        | 1/7 [00:01<00:10,  1.72s/it]"
     ]
    },
    {
     "name": "stdout",
     "output_type": "stream",
     "text": [
      "Resposta completa da API (antes da limpeza):\n",
      "```json\n",
      "{\n",
      "  \"protagonist_is_animal\": 0,\n",
      "  \"psychological_suffering\": 0,\n",
      "  \"romantic_element\": 1,\n",
      "  \"action_intensity\": 1,\n",
      "  \"mystery_presence\": 0\n",
      "}\n",
      "```\n",
      "Resposta da API após limpeza:\n",
      "{\n",
      "  \"protagonist_is_animal\": 0,\n",
      "  \"psychological_suffering\": 0,\n",
      "  \"romantic_element\": 1,\n",
      "  \"action_intensity\": 1,\n",
      "  \"mystery_presence\": 0\n",
      "}\n",
      "\n",
      "--- Tentativa 1 ---\n",
      "Prompt enviado:\n",
      "Generate a JSON object with 5 features extracted from the following movie plot. Do not include any feature that indicates the plot's class. Use the following keys and definitions:\n",
      "- 'protagonist_is_animal': 1 if the protagonist is an animal, else 0.\n",
      "- 'psychological_suffering': 1 if the plot indicates psychological suffering, else 0.\n",
      "- 'romantic_element': 1 if the plot includes a romantic element, else 0.\n",
      "- 'action_intensity': an integer from 0 (low action) to 10 (high action).\n",
      "- 'mystery_presence': 1 if the plot includes a mystery element, else 0.\n",
      "Provide only the JSON object.\n",
      "Plot: Chaplin, in tramp attire, sits in the park with his wife, Mabel. While he is gone to a bar, a large man holding a tennis racquet moves in on his wife. Chaplin returns to find them laughing together. But despite kicking him and hitting him with his cane the man is undeterred in his wooing of his wife.\n",
      "The man drags Mabel down to the edge of the lake in the park. Meanwhile, Charlie finds the man's wife and they return together, where the wife first confronts her husband, but then ends up confronting Mabel. She goes to strike her but hits Charlie instead. The couple then leave. Mabel heads home but stops at a sporting goods store where she orders a man-shaped punch-bag. It is delivered whilst she is in her pyjamas. She wraps herself in a leopard-skin rug to answer the door. She starts practicing boxing moves on the dummy/punchbag. It is weighted so it swings back and knocks her over.\n",
      "Meanwhile, Charlie returns to the bar. A man there ridicules Charlie's clothes, particularly his baggy trousers. Then the first man reappears further ridiculing Charlie who is by now drunk.\n",
      "Charlie returns home, inexplicably holding a bunch of fresh onions, and trying to work out what the smell is. He throws them away. They fly through an open door and onto Mabel who is in bed.\n",
      "Charlie in his drunken state sees the dummy as the rival and prepares to fight. Mabel watches from the bedroom, frustrated by his actions. Charlie demands the dummy leaves. He pushes it. It swings back then rolls forward again striking Charlie. Charlie tries to placate it but ends up striking it again. Each time he hits it, it hits him back harder. Mabel joins in the fight then reveals to Charlie that it is just a dummy. Meanwhile, neighbour get concerned at the noise.\n"
     ]
    },
    {
     "name": "stderr",
     "output_type": "stream",
     "text": [
      " 29%|██▊       | 2/7 [00:02<00:05,  1.14s/it]"
     ]
    },
    {
     "name": "stdout",
     "output_type": "stream",
     "text": [
      "Resposta completa da API (antes da limpeza):\n",
      "```json\n",
      "{\n",
      "  \"protagonist_is_animal\": 0,\n",
      "  \"psychological_suffering\": 0,\n",
      "  \"romantic_element\": 1,\n",
      "  \"action_intensity\": 4,\n",
      "  \"mystery_presence\": 0\n",
      "}\n",
      "```\n",
      "Resposta da API após limpeza:\n",
      "{\n",
      "  \"protagonist_is_animal\": 0,\n",
      "  \"psychological_suffering\": 0,\n",
      "  \"romantic_element\": 1,\n",
      "  \"action_intensity\": 4,\n",
      "  \"mystery_presence\": 0\n",
      "}\n",
      "\n",
      "--- Tentativa 1 ---\n",
      "Prompt enviado:\n",
      "Generate a JSON object with 5 features extracted from the following movie plot. Do not include any feature that indicates the plot's class. Use the following keys and definitions:\n",
      "- 'protagonist_is_animal': 1 if the protagonist is an animal, else 0.\n",
      "- 'psychological_suffering': 1 if the plot indicates psychological suffering, else 0.\n",
      "- 'romantic_element': 1 if the plot includes a romantic element, else 0.\n",
      "- 'action_intensity': an integer from 0 (low action) to 10 (high action).\n",
      "- 'mystery_presence': 1 if the plot includes a mystery element, else 0.\n",
      "Provide only the JSON object.\n",
      "Plot: Chaplin's character attempts to convince a passerby (director Henry Lehrman) to give him money. Chaplin is then shown flirting with a woman and proposes to her, which she accepts. Lehrman enters to present the woman with flowers and a ring, which the woman refuses citing she's engaged. Lerhman sees Chaplin and a slapstick fight between the two ensues. Later, Lehrman's character takes a photograph of an automobile accident; Chaplin's character steals the camera whilst the journalist is helping a trapped motorist and rushes back to the paper with it to claim the photograph as his own. A short pursuit with the Keystone Kops follows.[2]\n"
     ]
    },
    {
     "name": "stderr",
     "output_type": "stream",
     "text": [
      " 43%|████▎     | 3/7 [00:03<00:03,  1.05it/s]"
     ]
    },
    {
     "name": "stdout",
     "output_type": "stream",
     "text": [
      "Resposta completa da API (antes da limpeza):\n",
      "```json\n",
      "{\n",
      "  \"protagonist_is_animal\": 0,\n",
      "  \"psychological_suffering\": 0,\n",
      "  \"romantic_element\": 1,\n",
      "  \"action_intensity\": 7,\n",
      "  \"mystery_presence\": 0\n",
      "}\n",
      "```\n",
      "Resposta da API após limpeza:\n",
      "{\n",
      "  \"protagonist_is_animal\": 0,\n",
      "  \"psychological_suffering\": 0,\n",
      "  \"romantic_element\": 1,\n",
      "  \"action_intensity\": 7,\n",
      "  \"mystery_presence\": 0\n",
      "}\n",
      "\n",
      "--- Tentativa 1 ---\n",
      "Prompt enviado:\n",
      "Generate a JSON object with 5 features extracted from the following movie plot. Do not include any feature that indicates the plot's class. Use the following keys and definitions:\n",
      "- 'protagonist_is_animal': 1 if the protagonist is an animal, else 0.\n",
      "- 'psychological_suffering': 1 if the plot indicates psychological suffering, else 0.\n",
      "- 'romantic_element': 1 if the plot includes a romantic element, else 0.\n",
      "- 'action_intensity': an integer from 0 (low action) to 10 (high action).\n",
      "- 'mystery_presence': 1 if the plot includes a mystery element, else 0.\n",
      "Provide only the JSON object.\n",
      "Plot: The narrative hinges on Jason's vow to wreak vengeance on his father for abandoning his mother. But his father dies, and Jason turns his desire for revenge against Sunlocks, his father's son of another wife. Both Sunlocks and Jason are in love with Greeba, daughter of the governor of the Isle of Man. Sunlocks and Jason go to Iceland, and are confined in prison. Jason not knowing Sunlocks, saves his half-brother from death in the mines. Jason not knowing Sunlocks, saves his half-brother from death in the mines. Jason is freed, but Sunlocks is condemned to death. Greeba pleads for Sunlocks' life, and Jason sacrifices himself by taking Sunlocks' place and dying for him.[1]\n"
     ]
    },
    {
     "name": "stderr",
     "output_type": "stream",
     "text": [
      " 57%|█████▋    | 4/7 [00:04<00:02,  1.11it/s]"
     ]
    },
    {
     "name": "stdout",
     "output_type": "stream",
     "text": [
      "Resposta completa da API (antes da limpeza):\n",
      "```json\n",
      "{\n",
      "  \"protagonist_is_animal\": 0,\n",
      "  \"psychological_suffering\": 1,\n",
      "  \"romantic_element\": 1,\n",
      "  \"action_intensity\": 4,\n",
      "  \"mystery_presence\": 0\n",
      "}\n",
      "```\n",
      "Resposta da API após limpeza:\n",
      "{\n",
      "  \"protagonist_is_animal\": 0,\n",
      "  \"psychological_suffering\": 1,\n",
      "  \"romantic_element\": 1,\n",
      "  \"action_intensity\": 4,\n",
      "  \"mystery_presence\": 0\n",
      "}\n",
      "\n",
      "--- Tentativa 1 ---\n",
      "Prompt enviado:\n",
      "Generate a JSON object with 5 features extracted from the following movie plot. Do not include any feature that indicates the plot's class. Use the following keys and definitions:\n",
      "- 'protagonist_is_animal': 1 if the protagonist is an animal, else 0.\n",
      "- 'psychological_suffering': 1 if the plot indicates psychological suffering, else 0.\n",
      "- 'romantic_element': 1 if the plot includes a romantic element, else 0.\n",
      "- 'action_intensity': an integer from 0 (low action) to 10 (high action).\n",
      "- 'mystery_presence': 1 if the plot includes a mystery element, else 0.\n",
      "Provide only the JSON object.\n",
      "Plot: The film opens with the outbreak of a war in the previously peaceful kingdom of Wredpryd. Count Ferdinand is the inventor of a new submarine who is assigned to command the new ship in battle. The King of Wredpryd orders the Count to sink the \"ProPatria\" (\"for my country\"), a civilian ship that is believed to be carrying munitions as well as civilian passengers. In his mind's eye, the Count sees a vision of what would happen if he sent a torpedo crashing into the liner, and he recoils. He refuses to follow his orders, saying he is \"obeying orders -- from a Higher Power.\" Realizing his crew will carry out the orders, the Count fights with the crew and blows up his submarine, sending it to the bottom of the sea.\n",
      "The Count's soul descends into purgatory, where he encounters Jesus. Jesus announces that the Count can find redemption by returning to the living world as a voice for peace. Jesus tells the Count, \"Peace to thee, child, for in thy love for humanity is thy redemption. In thy earthly body will I return, and with thy voice plead for peace. Much evil is being wrought in my name.\"\n",
      "The Count returns to life and is stoned and reviled by his countrymen. He is put on trial by the king, a modern Pontius Pilate, and is sentenced to death. Five thousand women gather at the palace singing a song of peace and pleading with the king to end the war. The mothers' plea inspires the king to visit the cell of the condemned Count. The Count is found dead in his cell, and Jesus emerges from the Count's body and takes the king on a tour of the battlefields. Jesus asks, \"See here thy handiwork? Under thy reign, thy domain hath become a raging hell!\" In the film's most famous scene, Jesus walks through the battlefields amid the carnage of war.\n",
      "The signing of a peace treaty follows, and the closing scenes depicts the happiness in store for the returning soldiers.\n"
     ]
    },
    {
     "name": "stderr",
     "output_type": "stream",
     "text": [
      " 71%|███████▏  | 5/7 [00:04<00:01,  1.18it/s]"
     ]
    },
    {
     "name": "stdout",
     "output_type": "stream",
     "text": [
      "Resposta completa da API (antes da limpeza):\n",
      "```json\n",
      "{\n",
      "  \"protagonist_is_animal\": 0,\n",
      "  \"psychological_suffering\": 1,\n",
      "  \"romantic_element\": 0,\n",
      "  \"action_intensity\": 7,\n",
      "  \"mystery_presence\": 0\n",
      "}\n",
      "```\n",
      "Resposta da API após limpeza:\n",
      "{\n",
      "  \"protagonist_is_animal\": 0,\n",
      "  \"psychological_suffering\": 1,\n",
      "  \"romantic_element\": 0,\n",
      "  \"action_intensity\": 7,\n",
      "  \"mystery_presence\": 0\n",
      "}\n",
      "\n",
      "--- Tentativa 1 ---\n",
      "Prompt enviado:\n",
      "Generate a JSON object with 5 features extracted from the following movie plot. Do not include any feature that indicates the plot's class. Use the following keys and definitions:\n",
      "- 'protagonist_is_animal': 1 if the protagonist is an animal, else 0.\n",
      "- 'psychological_suffering': 1 if the plot indicates psychological suffering, else 0.\n",
      "- 'romantic_element': 1 if the plot includes a romantic element, else 0.\n",
      "- 'action_intensity': an integer from 0 (low action) to 10 (high action).\n",
      "- 'mystery_presence': 1 if the plot includes a mystery element, else 0.\n",
      "Provide only the JSON object.\n",
      "Plot: As described in a film magazine review,[3] Neil Dacey (Carrigan) loves Peggy Desmond (Taliaferro). Terence O'Malley (Sack), nephew of Squire O'Malley (Ryan), is anxious to win Peggy. Terence and his uncle have a quarrel because Terence cannot win Peggy, and the squire is killed. Terence does the killing with Neil's gun, so Neil is held for the murder. Peggy, to save her fiance, dresses as the will-o'-the-wisp, and this results in a confession by Terence.\n"
     ]
    },
    {
     "name": "stderr",
     "output_type": "stream",
     "text": [
      " 86%|████████▌ | 6/7 [00:05<00:00,  1.26it/s]"
     ]
    },
    {
     "name": "stdout",
     "output_type": "stream",
     "text": [
      "Resposta completa da API (antes da limpeza):\n",
      "```json\n",
      "{\n",
      "  \"protagonist_is_animal\": 0,\n",
      "  \"psychological_suffering\": 1,\n",
      "  \"romantic_element\": 1,\n",
      "  \"action_intensity\": 3,\n",
      "  \"mystery_presence\": 1\n",
      "}\n",
      "```\n",
      "Resposta da API após limpeza:\n",
      "{\n",
      "  \"protagonist_is_animal\": 0,\n",
      "  \"psychological_suffering\": 1,\n",
      "  \"romantic_element\": 1,\n",
      "  \"action_intensity\": 3,\n",
      "  \"mystery_presence\": 1\n",
      "}\n",
      "\n",
      "--- Tentativa 1 ---\n",
      "Prompt enviado:\n",
      "Generate a JSON object with 5 features extracted from the following movie plot. Do not include any feature that indicates the plot's class. Use the following keys and definitions:\n",
      "- 'protagonist_is_animal': 1 if the protagonist is an animal, else 0.\n",
      "- 'psychological_suffering': 1 if the plot indicates psychological suffering, else 0.\n",
      "- 'romantic_element': 1 if the plot includes a romantic element, else 0.\n",
      "- 'action_intensity': an integer from 0 (low action) to 10 (high action).\n",
      "- 'mystery_presence': 1 if the plot includes a mystery element, else 0.\n",
      "Provide only the JSON object.\n",
      "Plot: Gwendolyn is an 11-year-old girl who is left by her rich and busy parents to the care of unsympathetic domestic workers at the family's mansion. Her mother is only interested in her social life and her father has serious financial problems and is even contemplating suicide. When she manages to have some good time with an organ-grinder or a plumber, or have a mud-fight with street boys, she is rapidly brought back on the right track. One day she becomes sick because the maid has given her an extra dose of sleeping medicine to be able to go out. She then becomes delirious and starts seeing an imaginary world inspired by people and things around her; the Garden of Lonely Children in the Tell-Tale forest. Her conditions worsens and Death tries to lure her to eternal rest. But Life also appears to her and finally wins.[6]\n"
     ]
    },
    {
     "name": "stderr",
     "output_type": "stream",
     "text": [
      "100%|██████████| 7/7 [00:06<00:00,  1.10it/s]"
     ]
    },
    {
     "name": "stdout",
     "output_type": "stream",
     "text": [
      "Resposta completa da API (antes da limpeza):\n",
      "```json\n",
      "{\n",
      "  \"protagonist_is_animal\": 0,\n",
      "  \"psychological_suffering\": 1,\n",
      "  \"romantic_element\": 0,\n",
      "  \"action_intensity\": 2,\n",
      "  \"mystery_presence\": 0\n",
      "}\n",
      "```\n",
      "Resposta da API após limpeza:\n",
      "{\n",
      "  \"protagonist_is_animal\": 0,\n",
      "  \"psychological_suffering\": 1,\n",
      "  \"romantic_element\": 0,\n",
      "  \"action_intensity\": 2,\n",
      "  \"mystery_presence\": 0\n",
      "}\n",
      "\n",
      "Dataset atualizado salvo como 'movie_plots_features_updated.csv'.\n"
     ]
    },
    {
     "name": "stderr",
     "output_type": "stream",
     "text": [
      "\n"
     ]
    }
   ],
   "source": [
    "import os\n",
    "import time\n",
    "import json\n",
    "import pandas as pd\n",
    "from dotenv import load_dotenv\n",
    "import google.generativeai as genai\n",
    "from tqdm import tqdm\n",
    "\n",
    "# Carrega a chave da API GEMINI dos environment variables\n",
    "load_dotenv()\n",
    "GEMINI_API_KEY = os.getenv('GEMINI_API_KEY')\n",
    "if GEMINI_API_KEY is None:\n",
    "    raise ValueError(\"GEMINI_API_KEY não está definido nas variáveis de ambiente.\")\n",
    "\n",
    "# Configura o client da API\n",
    "genai.configure(api_key=GEMINI_API_KEY)\n",
    "\n",
    "def clean_response_text(text: str) -> str:\n",
    "    \"\"\"\n",
    "    Remove delimitadores de bloco de código (ex: ```json ... ```) da resposta,\n",
    "    se presentes.\n",
    "    \"\"\"\n",
    "    text = text.strip()\n",
    "    if text.startswith(\"```\"):\n",
    "        lines = text.splitlines()\n",
    "        if lines[0].startswith(\"```\"):\n",
    "            lines = lines[1:]\n",
    "        if lines and lines[-1].startswith(\"```\"):\n",
    "            lines = lines[:-1]\n",
    "        text = \"\\n\".join(lines).strip()\n",
    "    return text\n",
    "\n",
    "def generate_features(plot: str, delay_between_retries: float = 5.0, max_attempts: int = 3) -> dict:\n",
    "    \"\"\"\n",
    "    Gera as features a partir de um enredo de filme. \n",
    "    Tenta até `max_attempts` vezes, com um delay de `delay_between_retries` segundos entre cada tentativa.\n",
    "    Caso todas as tentativas falhem, retorna os valores padrão (zeros).\n",
    "    \"\"\"\n",
    "    prompt = (\n",
    "        \"Generate a JSON object with 5 features extracted from the following movie plot. \"\n",
    "        \"Do not include any feature that indicates the plot's class. Use the following keys and definitions:\\n\"\n",
    "        \"- 'protagonist_is_animal': 1 if the protagonist is an animal, else 0.\\n\"\n",
    "        \"- 'psychological_suffering': 1 if the plot indicates psychological suffering, else 0.\\n\"\n",
    "        \"- 'romantic_element': 1 if the plot includes a romantic element, else 0.\\n\"\n",
    "        \"- 'action_intensity': an integer from 0 (low action) to 10 (high action).\\n\"\n",
    "        \"- 'mystery_presence': 1 if the plot includes a mystery element, else 0.\\n\"\n",
    "        \"Provide only the JSON object.\\n\"\n",
    "        \"Plot: \" + plot\n",
    "    )\n",
    "    \n",
    "    generation_config = genai.GenerationConfig(\n",
    "        max_output_tokens=100,\n",
    "        temperature=0.0,\n",
    "    )\n",
    "    \n",
    "    model = genai.GenerativeModel(model_name=\"gemini-1.5-flash\")\n",
    "    \n",
    "    required_keys = [\n",
    "        \"protagonist_is_animal\",\n",
    "        \"psychological_suffering\",\n",
    "        \"romantic_element\",\n",
    "        \"action_intensity\",\n",
    "        \"mystery_presence\"\n",
    "    ]\n",
    "    \n",
    "    for attempt in range(1, max_attempts + 1):\n",
    "        try:\n",
    "            print(f\"\\n--- Tentativa {attempt} ---\")\n",
    "            print(\"Prompt enviado:\")\n",
    "            print(prompt)\n",
    "            \n",
    "            response = model.generate_content(prompt, generation_config=generation_config)\n",
    "            response_text = response.text.strip()\n",
    "            \n",
    "            print(\"Resposta completa da API (antes da limpeza):\")\n",
    "            print(response_text)\n",
    "            \n",
    "            # Limpa o texto removendo delimitadores se houver\n",
    "            response_text = clean_response_text(response_text)\n",
    "            print(\"Resposta da API após limpeza:\")\n",
    "            print(response_text)\n",
    "            \n",
    "            if not response_text:\n",
    "                raise ValueError(\"Resposta vazia da API\")\n",
    "            \n",
    "            features = json.loads(response_text)\n",
    "            \n",
    "            # Verifica se todas as chaves requeridas estão presentes\n",
    "            for key in required_keys:\n",
    "                if key not in features:\n",
    "                    raise ValueError(f\"Chave '{key}' ausente na resposta. Resposta recebida: {features}\")\n",
    "            \n",
    "            return features\n",
    "        \n",
    "        except Exception as e:\n",
    "            print(f\"Tentativa {attempt} falhou: {e}\")\n",
    "            time.sleep(delay_between_retries)\n",
    "    \n",
    "    print(\"Todas as tentativas falharam. Retornando valores padrão zerados.\")\n",
    "    return {\n",
    "        \"protagonist_is_animal\": 0,\n",
    "        \"psychological_suffering\": 0,\n",
    "        \"romantic_element\": 0,\n",
    "        \"action_intensity\": 0,\n",
    "        \"mystery_presence\": 0\n",
    "    }\n",
    "\n",
    "# Carrega o dataset previamente gerado com as features\n",
    "df_features = pd.read_csv(\"movie_plots_features.csv\")\n",
    "\n",
    "# Identifica linhas com valores padrão (considerando que erros retornam todos os zeros)\n",
    "error_mask = (\n",
    "    (df_features[\"protagonist_is_animal\"] == 0) &\n",
    "    (df_features[\"psychological_suffering\"] == 0) &\n",
    "    (df_features[\"romantic_element\"] == 0) &\n",
    "    (df_features[\"action_intensity\"] == 0) &\n",
    "    (df_features[\"mystery_presence\"] == 0)\n",
    ")\n",
    "\n",
    "# Lista dos enredos que tiveram erro\n",
    "df_errors = df_features[error_mask].copy()\n",
    "num_errors = len(df_errors)\n",
    "print(f\"\\nNúmero de linhas com erro identificadas: {num_errors}\")\n",
    "\n",
    "# Remove as linhas com erro do DataFrame original\n",
    "df_features_clean = df_features[~error_mask].copy()\n",
    "\n",
    "if num_errors > 0:\n",
    "    # Reprocessa os enredos com erro utilizando uma barra de carregamento\n",
    "    print(\"\\nReprocessando enredos com erro...\")\n",
    "    new_features_list = []\n",
    "    for idx, row in tqdm(df_errors.iterrows(), total=num_errors):\n",
    "        plot = row['Plot']\n",
    "        new_features = generate_features(plot, delay_between_retries=5.0, max_attempts=3)\n",
    "        new_features_list.append(new_features)\n",
    "    \n",
    "    # Converte a nova lista para DataFrame e inclui as colunas de Plot e Genre\n",
    "    df_new = pd.DataFrame(new_features_list)\n",
    "    df_new['Plot'] = df_errors['Plot'].values\n",
    "    df_new['Genre'] = df_errors['Genre'].values\n",
    "    \n",
    "    # Concatena os resultados reprocessados com as linhas que já estavam corretas\n",
    "    df_final = pd.concat([df_features_clean, df_new], ignore_index=True)\n",
    "else:\n",
    "    print(\"Nenhuma linha com erro encontrada.\")\n",
    "    df_final = df_features.copy()\n",
    "\n",
    "# Salva o DataFrame final atualizado\n",
    "df_final.to_csv(\"movie_plots_features_updated.csv\", index=False)\n",
    "print(\"\\nDataset atualizado salvo como 'movie_plots_features_updated.csv'.\")"
   ]
  },
  {
   "cell_type": "code",
   "execution_count": 10,
   "metadata": {},
   "outputs": [
    {
     "name": "stdout",
     "output_type": "stream",
     "text": [
      "Visualizando as primeiras linhas do dataset:\n",
      "   protagonist_is_animal  psychological_suffering  romantic_element  \\\n",
      "0                      0                        1                 0   \n",
      "1                      0                        0                 0   \n",
      "2                      0                        0                 0   \n",
      "3                      0                        1                 0   \n",
      "4                      0                        1                 0   \n",
      "\n",
      "   action_intensity  mystery_presence  \\\n",
      "0                 2                 0   \n",
      "1                 2                 0   \n",
      "2                 2                 0   \n",
      "3                 6                 0   \n",
      "4                 7                 0   \n",
      "\n",
      "                                                Plot   Genre  \n",
      "0  The film is about a family who move to the sub...  comedy  \n",
      "1  Before heading out to a baseball game at a nea...  comedy  \n",
      "2  The plot is that of a black woman going to the...  comedy  \n",
      "3  On a beautiful summer day a father and mother ...   drama  \n",
      "4  A thug accosts a girl as she leaves her workpl...   drama  \n",
      "\n",
      "Estatísticas descritivas para 'action_intensity':\n",
      "count    100.000000\n",
      "mean       3.810000\n",
      "std        2.214256\n",
      "min        0.000000\n",
      "25%        2.000000\n",
      "50%        3.000000\n",
      "75%        6.250000\n",
      "max        8.000000\n",
      "Name: action_intensity, dtype: float64\n",
      "\n",
      "Distribuição para 'protagonist_is_animal':\n",
      "protagonist_is_animal\n",
      "0    99\n",
      "1     1\n",
      "Name: count, dtype: int64\n",
      "\n",
      "Distribuição para 'psychological_suffering':\n",
      "psychological_suffering\n",
      "0    42\n",
      "1    58\n",
      "Name: count, dtype: int64\n",
      "\n",
      "Distribuição para 'romantic_element':\n",
      "romantic_element\n",
      "0    27\n",
      "1    73\n",
      "Name: count, dtype: int64\n",
      "\n",
      "Distribuição para 'mystery_presence':\n",
      "mystery_presence\n",
      "0    76\n",
      "1    24\n",
      "Name: count, dtype: int64\n"
     ]
    },
    {
     "data": {
      "image/png": "[encoded data removed]",
      "text/plain": [
       "<Figure size 1400x1000 with 4 Axes>"
      ]
     },
     "metadata": {},
     "output_type": "display_data"
    },
    {
     "data": {
      "image/png": "[encoded data removed]",
      "text/plain": [
       "<Figure size 600x400 with 1 Axes>"
      ]
     },
     "metadata": {},
     "output_type": "display_data"
    }
   ],
   "source": [
    "import pandas as pd\n",
    "import matplotlib.pyplot as plt\n",
    "\n",
    "# Carrega o dataset atualizado\n",
    "df = pd.read_csv(\"movie_plots_features_updated.csv\")\n",
    "\n",
    "# Exibe as primeiras linhas para conferência\n",
    "print(\"Visualizando as primeiras linhas do dataset:\")\n",
    "print(df.head())\n",
    "\n",
    "# Análise descritiva para a coluna numérica \"action_intensity\"\n",
    "print(\"\\nEstatísticas descritivas para 'action_intensity':\")\n",
    "print(df['action_intensity'].describe())\n",
    "\n",
    "# Contagem para as features binárias\n",
    "binary_features = [\"protagonist_is_animal\", \"psychological_suffering\", \"romantic_element\", \"mystery_presence\"]\n",
    "\n",
    "for feature in binary_features:\n",
    "    counts = df[feature].value_counts().sort_index()\n",
    "    print(f\"\\nDistribuição para '{feature}':\")\n",
    "    print(counts)\n",
    "\n",
    "# Cria gráficos para visualização\n",
    "plt.figure(figsize=(14, 10))\n",
    "\n",
    "# Gráfico de barras para as features binárias\n",
    "for i, feature in enumerate(binary_features, 1):\n",
    "    plt.subplot(2, 2, i)\n",
    "    counts = df[feature].value_counts().sort_index()\n",
    "    counts.plot(kind=\"bar\", color=\"skyblue\", edgecolor=\"black\")\n",
    "    plt.title(f\"Distribuição de {feature}\")\n",
    "    plt.xlabel(feature)\n",
    "    plt.ylabel(\"Frequência\")\n",
    "    plt.xticks(rotation=0)\n",
    "\n",
    "plt.tight_layout()\n",
    "plt.show()\n",
    "\n",
    "# Histograma para a feature \"action_intensity\"\n",
    "plt.figure(figsize=(6, 4))\n",
    "plt.hist(df['action_intensity'], bins=range(0, 12), color=\"lightgreen\", edgecolor=\"black\", align='left')\n",
    "plt.title(\"Distribuição de action_intensity\")\n",
    "plt.xlabel(\"action_intensity\")\n",
    "plt.ylabel(\"Frequência\")\n",
    "plt.xticks(range(0, 11))\n",
    "plt.show()"
   ]
  },
  {
   "cell_type": "markdown",
   "metadata": {},
   "source": [
    "### 2. Classification:\n",
    "Use the generated features to train a Logistic Regression model. Use cross-validation to select the best hyperparameters. Report accuracy and f1-score for your classifier."
   ]
  },
  {
   "cell_type": "markdown",
   "metadata": {},
   "source": [
    "### _Primeira Solução_"
   ]
  },
  {
   "cell_type": "code",
   "execution_count": 12,
   "metadata": {},
   "outputs": [
    {
     "name": "stdout",
     "output_type": "stream",
     "text": [
      "Accuracy: 1.00\n"
     ]
    }
   ],
   "source": [
    "from sklearn.linear_model import LogisticRegression\n",
    "from sklearn.feature_extraction.text import CountVectorizer\n",
    "from sklearn.pipeline import Pipeline\n",
    "from sklearn.model_selection import train_test_split\n",
    "from sklearn.metrics import accuracy_score\n",
    "\n",
    "# Criar o pipeline com CountVectorizer e Logistic Regression\n",
    "model_lr = Pipeline([\n",
    "    ('vectorizer', CountVectorizer(binary=True)),\n",
    "    ('classifier', LogisticRegression())\n",
    "])\n",
    "\n",
    "# Dividir o dataset em treinamento e teste para protagonist_is_animal\n",
    "X_train, X_test, y_train, y_test = train_test_split(df['Plot'], df['protagonist_is_animal'], test_size=0.2, random_state=42)\n",
    "\n",
    "# Treinar o modelo e realizar as predições\n",
    "model_lr.fit(X_train, y_train)\n",
    "y_pred = model_lr.predict(X_test)\n",
    "accuracy = accuracy_score(y_test, y_pred)\n",
    "print(f'Accuracy: {accuracy:.2f}')"
   ]
  },
  {
   "cell_type": "markdown",
   "metadata": {},
   "source": [
    "### _Segunda Solução_"
   ]
  },
  {
   "cell_type": "markdown",
   "metadata": {},
   "source": [
    "<div style=\"background-color: f2f2f2; color: 000;\">\n",
    "\n",
    "\n",
    "Exercise 2: Classification with Generated Features\n",
    "\n",
    "Below is an example of a well-commented Python code that loads the dataset with generated features, splits it into training and test sets, and uses GridSearchCV to tune hyperparameters for a Logistic Regression classifier. Finally, the code reports both the accuracy and the F1-score of the final classifier.\n",
    "\n",
    "```python\n",
    "import pandas as pd\n",
    "import numpy as np\n",
    "import os\n",
    "from sklearn.linear_model import LogisticRegression\n",
    "from sklearn.model_selection import train_test_split, GridSearchCV\n",
    "from sklearn.metrics import accuracy_score, f1_score, classification_report\n",
    "```\n",
    " ------------------------------------------------------------------------------\n",
    " 1. Load the dataset with generated features\n",
    " The dataset \"movie_plots_features_updated.csv\" should contain at least 100 items\n",
    " and the following columns:\n",
    "   - protagonist_is_animal (binary)\n",
    "   - psychological_suffering (binary)\n",
    "   - romantic_element (binary)\n",
    "   - action_intensity (integer, 0-10)\n",
    "   - mystery_presence (binary)\n",
    "   - Plot (for reference)\n",
    "   - Genre (target: e.g., 'comedy' or 'drama')\n",
    " ------------------------------------------------------------------------------\n",
    "```python\n",
    "\n",
    "data_file = \"movie_plots_features_updated.csv\"\n",
    "if not os.path.exists(data_file):\n",
    "    raise FileNotFoundError(f\"{data_file} not found. Make sure the dataset is stored locally.\")\n",
    "\n",
    "df = pd.read_csv(data_file)\n",
    "```\n",
    " ------------------------------------------------------------------------------\n",
    " 2. Prepare features and labels for classification.\n",
    " We use the 5 generated feature columns as our input features.\n",
    " ------------------------------------------------------------------------------\n",
    "\n",
    " ```python\n",
    "\n",
    "feature_cols = [\"protagonist_is_animal\",\n",
    "                \"psychological_suffering\",\n",
    "                \"romantic_element\",\n",
    "                \"action_intensity\",\n",
    "                \"mystery_presence\"]\n",
    "X = df[feature_cols]\n",
    "y = df[\"Genre\"]\n",
    "```\n",
    "\n",
    " ------------------------------------------------------------------------------\n",
    " 3. Split the dataset into training and testing sets.\n",
    " We use a fixed random_state for reproducibility.\n",
    " ------------------------------------------------------------------------------\n",
    " ```python\n",
    "\n",
    "X_train, X_test, y_train, y_test = train_test_split(X, y, test_size=0.2, random_state=42)\n",
    "```\n",
    " ------------------------------------------------------------------------------\n",
    " 4. Set up the Logistic Regression classifier with hyperparameter tuning.\n",
    " We use GridSearchCV to try different values for hyperparameters.\n",
    "\n",
    "   - 'C': Inverse of regularization strength. Smaller values specify stronger regularization.\n",
    "   - 'solver': We include solvers that support 'l1' penalty if needed.\n",
    "   - 'penalty': We test with L1 and L2 penalties.\n",
    " ------------------------------------------------------------------------------\n",
    " ```python\n",
    "\n",
    "param_grid = {\n",
    "    'C': [0.1, 1, 10, 100],\n",
    "    'penalty': ['l2'],   'l1' could also be tested with solvers like 'liblinear'\n",
    "    'solver': ['lbfgs', 'liblinear']\n",
    "}\n",
    "```\n",
    " Create a LogisticRegression instance (no need to wrap it in a Pipeline here, as our features are ready)\n",
    " ```python\n",
    "\n",
    "lr = LogisticRegression(max_iter=1000, random_state=42)\n",
    "```\n",
    " Set up GridSearchCV with 5-fold cross-validation and accuracy scoring\n",
    " ```python\n",
    "\n",
    "grid_search = GridSearchCV(estimator=lr, param_grid=param_grid,\n",
    "                           cv=5, scoring='accuracy', n_jobs=-1)\n",
    "```\n",
    " ------------------------------------------------------------------------------\n",
    " 5. Train the model using GridSearchCV on the training set.\n",
    " ------------------------------------------------------------------------------\n",
    " ```python\n",
    "\n",
    "grid_search.fit(X_train, y_train)\n",
    "\n",
    "print(\"Best hyperparameters found:\")\n",
    "print(grid_search.best_params_)\n",
    "print(f\"Best cross-validation accuracy: {grid_search.best_score_:.2f}\")\n",
    "```\n",
    " ------------------------------------------------------------------------------\n",
    " 6. Evaluate the best estimator on the test set.\n",
    " ------------------------------------------------------------------------------\n",
    " ```python\n",
    "\n",
    "best_lr = grid_search.best_estimator_\n",
    "y_pred = best_lr.predict(X_test)\n",
    "\n",
    " Calculate accuracy and F1-score\n",
    "test_accuracy = accuracy_score(y_test, y_pred)\n",
    "test_f1 = f1_score(y_test, y_pred, average='macro')\n",
    "\n",
    "print(f\"\\nTest Accuracy: {test_accuracy:.2f}\")\n",
    "print(f\"Test F1-score: {test_f1:.2f}\\n\")\n",
    "\n",
    " Print a detailed classification report\n",
    "print(\"Classification Report:\")\n",
    "print(classification_report(y_test, y_pred))\n",
    "```\n",
    "\n",
    "\n",
    "⸻\n",
    "\n",
    "    Explanation\n",
    "        1.\tDataset Loading:\n",
    "    The code loads the CSV file containing the generated features along with the original plot and genre. It expects at least 100 samples.\n",
    "        2.\tFeature & Label Preparation:\n",
    "    We use the 5 interpretable features (e.g., “protagonist_is_animal”, “psychological_suffering”, etc.) as the input (X) and the “Genre” column as the target (y).\n",
    "        3.\tData Splitting:\n",
    "    The dataset is split into training (80%) and testing (20%) sets with a fixed random seed for reproducibility.\n",
    "        4.\tHyperparameter Tuning:\n",
    "    We define a parameter grid for Logistic Regression. GridSearchCV performs 5-fold cross-validation on the training set to select the best hyperparameters (e.g., the regularization strength ‘C’ and the solver).\n",
    "        5.\tModel Training and Evaluation:\n",
    "    The best model is evaluated on the test set. Both accuracy and macro-average F1-score are computed and printed, along with a full classification report.\n",
    "\n",
    "⸻\n",
    "\n",
    "Final Notes\n",
    "\n",
    "This approach uses the features generated via LLM-based feature extraction to train an interpretable Logistic Regression model. Cross-validation ensures that we choose a robust hyperparameter configuration. The resulting accuracy and F1-score are then reported to assess the performance of the classifier on this new feature space.\n",
    "\n",
    "</div>\n"
   ]
  },
  {
   "cell_type": "code",
   "execution_count": 13,
   "metadata": {},
   "outputs": [
    {
     "name": "stdout",
     "output_type": "stream",
     "text": [
      "Best hyperparameters found:\n",
      "{'C': 1, 'penalty': 'l2', 'solver': 'lbfgs'}\n",
      "Best cross-validation accuracy: 0.84\n",
      "\n",
      "Test Accuracy: 0.70\n",
      "Test F1-score: 0.70\n",
      "\n",
      "Classification Report:\n",
      "              precision    recall  f1-score   support\n",
      "\n",
      "      comedy       0.80      0.67      0.73        12\n",
      "       drama       0.60      0.75      0.67         8\n",
      "\n",
      "    accuracy                           0.70        20\n",
      "   macro avg       0.70      0.71      0.70        20\n",
      "weighted avg       0.72      0.70      0.70        20\n",
      "\n"
     ]
    }
   ],
   "source": [
    "import pandas as pd\n",
    "import numpy as np\n",
    "import os\n",
    "from sklearn.linear_model import LogisticRegression\n",
    "from sklearn.model_selection import train_test_split, GridSearchCV\n",
    "from sklearn.metrics import accuracy_score, f1_score, classification_report\n",
    "\n",
    "# ------------------------------------------------------------------------------\n",
    "# 1. Load the dataset with generated features\n",
    "# The dataset \"movie_plots_features_updated.csv\" should contain at least 100 items\n",
    "# and the following columns:\n",
    "#   - protagonist_is_animal (binary)\n",
    "#   - psychological_suffering (binary)\n",
    "#   - romantic_element (binary)\n",
    "#   - action_intensity (integer, 0-10)\n",
    "#   - mystery_presence (binary)\n",
    "#   - Plot (for reference)\n",
    "#   - Genre (target: e.g., 'comedy' or 'drama')\n",
    "# ------------------------------------------------------------------------------\n",
    "\n",
    "data_file = \"movie_plots_features_updated.csv\"\n",
    "if not os.path.exists(data_file):\n",
    "    raise FileNotFoundError(f\"{data_file} not found. Make sure the dataset is stored locally.\")\n",
    "\n",
    "df = pd.read_csv(data_file)\n",
    "\n",
    "# ------------------------------------------------------------------------------\n",
    "# 2. Prepare features and labels for classification.\n",
    "# We use the 5 generated feature columns as our input features.\n",
    "# ------------------------------------------------------------------------------\n",
    "feature_cols = [\"protagonist_is_animal\",\n",
    "                \"psychological_suffering\",\n",
    "                \"romantic_element\",\n",
    "                \"action_intensity\",\n",
    "                \"mystery_presence\"]\n",
    "X = df[feature_cols]\n",
    "y = df[\"Genre\"]\n",
    "\n",
    "# ------------------------------------------------------------------------------\n",
    "# 3. Split the dataset into training and testing sets.\n",
    "# We use a fixed random_state for reproducibility.\n",
    "# ------------------------------------------------------------------------------\n",
    "X_train, X_test, y_train, y_test = train_test_split(X, y, test_size=0.2, random_state=42)\n",
    "\n",
    "# ------------------------------------------------------------------------------\n",
    "# 4. Set up the Logistic Regression classifier with hyperparameter tuning.\n",
    "# We use GridSearchCV to try different values for hyperparameters.\n",
    "#\n",
    "#   - 'C': Inverse of regularization strength. Smaller values specify stronger regularization.\n",
    "#   - 'solver': We include solvers that support 'l1' penalty if needed.\n",
    "#   - 'penalty': We test with L1 and L2 penalties.\n",
    "# ------------------------------------------------------------------------------\n",
    "param_grid = {\n",
    "    'C': [0.1, 1, 10, 100],\n",
    "    'penalty': ['l2'],  # 'l1' could also be tested with solvers like 'liblinear'\n",
    "    'solver': ['lbfgs', 'liblinear']\n",
    "}\n",
    "\n",
    "# Create a LogisticRegression instance (no need to wrap it in a Pipeline here, as our features are ready)\n",
    "lr = LogisticRegression(max_iter=1000, random_state=42)\n",
    "\n",
    "# Set up GridSearchCV with 5-fold cross-validation and accuracy scoring\n",
    "grid_search = GridSearchCV(estimator=lr, param_grid=param_grid,\n",
    "                           cv=5, scoring='accuracy', n_jobs=-1)\n",
    "\n",
    "# ------------------------------------------------------------------------------\n",
    "# 5. Train the model using GridSearchCV on the training set.\n",
    "# ------------------------------------------------------------------------------\n",
    "grid_search.fit(X_train, y_train)\n",
    "\n",
    "print(\"Best hyperparameters found:\")\n",
    "print(grid_search.best_params_)\n",
    "print(f\"Best cross-validation accuracy: {grid_search.best_score_:.2f}\")\n",
    "\n",
    "# ------------------------------------------------------------------------------\n",
    "# 6. Evaluate the best estimator on the test set.\n",
    "# ------------------------------------------------------------------------------\n",
    "best_lr = grid_search.best_estimator_\n",
    "y_pred = best_lr.predict(X_test)\n",
    "\n",
    "# Calculate accuracy and F1-score\n",
    "test_accuracy = accuracy_score(y_test, y_pred)\n",
    "test_f1 = f1_score(y_test, y_pred, average='macro')\n",
    "\n",
    "print(f\"\\nTest Accuracy: {test_accuracy:.2f}\")\n",
    "print(f\"Test F1-score: {test_f1:.2f}\\n\")\n",
    "\n",
    "# Print a detailed classification report\n",
    "print(\"Classification Report:\")\n",
    "print(classification_report(y_test, y_pred))"
   ]
  },
  {
   "cell_type": "markdown",
   "metadata": {},
   "source": [
    "\t<div style=\"background-color: #f2f2f2; color: #000;\">\n",
    "\n",
    "\n",
    "\tExplicação dos Resultados\n",
    "\n",
    "\tOs resultados obtidos foram:\n",
    "\t\t•\tMelhores hiperparâmetros encontrados:\n",
    "\t{'C': 1, 'penalty': 'l2', 'solver': 'lbfgs'}\n",
    "\tInterpretação:\n",
    "\t\t•\tC = 1: É o parâmetro de regularização que equilibra o ajuste do modelo.\n",
    "\t\t•\tpenalty = ‘l2’: Foi escolhida a regularização L2, que penaliza os coeficientes com base no quadrado de seu valor.\n",
    "\t\t•\tsolver = ‘lbfgs’: Algoritmo de otimização eficiente para este problema.\n",
    "\t\t•\tMelhor acurácia de validação cruzada:\n",
    "\t0.84 (84%)\n",
    "\tInterpretação:\n",
    "\tDurante a validação cruzada no conjunto de treinamento (dividido em 5 folds), o modelo obteve, em média, 84% de acertos. Essa métrica indica que, para as divisões internas do treinamento, o modelo conseguiu aprender bem a partir dos dados disponíveis. Contudo, essa acurácia é uma estimativa otimista, pois é baseada em subconjuntos do mesmo conjunto de treinamento.\n",
    "\t\t•\tAcurácia no conjunto de teste:\n",
    "\t0.70 (70%)\n",
    "\tInterpretação:\n",
    "\tQuando o modelo é avaliado em dados que ele não viu durante o treinamento, a acurácia cai para 70%. Isso pode ocorrer por dois motivos principais:\n",
    "\t\t•\tOverfitting: O modelo pode ter se ajustado demais aos dados de treinamento, capturando ruídos ou peculiaridades que não se generalizam bem para novos dados.\n",
    "\t\t•\tDiferenças entre os dados: O conjunto de teste pode apresentar características ligeiramente diferentes do conjunto de treinamento.\n",
    "\t\t•\tF1-score no conjunto de teste:\n",
    "\t0.70 (70%)\n",
    "\tInterpretação:\n",
    "\tO F1-score é a média harmônica entre precisão e recall, oferecendo uma medida equilibrada do desempenho do classificador. Um F1-score de 70% indica que o equilíbrio entre as duas métricas está moderado.\n",
    "\t\t•\tRelatório de Classificação Detalhado:\n",
    "\n",
    "\tClasse\tPrecision\tRecall\tF1-Score\tSuporte\n",
    "\tcomedy\t0.80\t0.67\t0.73\t12\n",
    "\tdrama\t0.60\t0.75\t0.67\t8\n",
    "\n",
    "\tInterpretação para cada classe:\n",
    "\t\t•\tPara a classe comedy:\n",
    "\t\t•\tPrecision (0.80): Dos enredos classificados como comedy, 80% realmente são comedy. Ou seja, há poucos falsos positivos para essa classe.\n",
    "\t\t•\tRecall (0.67): Dentre todos os enredos que são de fato comedy, 67% foram corretamente identificados. Isso indica que há uma certa quantidade de falsos negativos.\n",
    "\t\t•\tF1-Score (0.73): Um equilíbrio razoável entre precision e recall.\n",
    "\t\t•\tPara a classe drama:\n",
    "\t\t•\tPrecision (0.60): Dos enredos classificados como drama, apenas 60% são realmente drama. Isso sugere mais falsos positivos.\n",
    "\t\t•\tRecall (0.75): Dentre todos os enredos que são de fato drama, 75% foram identificados corretamente, o que é um bom sinal para essa classe.\n",
    "\t\t•\tF1-Score (0.67): Indica um desempenho ligeiramente inferior ao da classe comedy, refletindo o menor equilíbrio entre precision e recall.\n",
    "\t\t•\tAcurácia Global (0.70): Dos 20 enredos do conjunto de teste, 70% foram classificados corretamente.\n",
    "\t\t•\tMacro Avg e Weighted Avg:\n",
    "\t\t•\tMacro Avg: Média não ponderada dos scores por classe (Precision ~0.70, Recall ~0.71, F1 ~0.70).\n",
    "\t\t•\tWeighted Avg: Média ponderada pelo suporte (número de instâncias) de cada classe, que também resulta em aproximadamente 0.70 para Recall e F1, e 0.72 para Precision, refletindo que a classe comedy (com mais exemplos) tem um pouco mais de influência nos resultados.\n",
    "\n",
    "\tResumo Geral dos Resultados:\n",
    "\t\t•\tValidação Cruzada x Teste:\n",
    "\tA acurácia de validação cruzada foi de 84%, enquanto a acurácia no conjunto de teste foi de 70%. Essa discrepância pode indicar que o modelo teve um desempenho melhor nos dados de treinamento (ou nas divisões internas) do que nos dados não vistos, sugerindo algum grau de overfitting ou diferenças entre os conjuntos de dados.\n",
    "\t\t•\tDesempenho por Classe:\n",
    "\tO modelo tende a ter maior precisão ao identificar comedy (menos falsos positivos), mas perde em recall (mais falsos negativos) para essa classe. Por outro lado, para drama, o modelo tem um recall mais alto (capturando mais verdadeiros dramas), mas a precisão é menor (mais falsos positivos).\n",
    "\t\t•\tImplicações:\n",
    "\tEsses resultados ajudam a entender os trade-offs do modelo. Dependendo do objetivo da aplicação, pode-se priorizar melhorar a precisão ou o recall para uma das classes. Por exemplo, se for crucial não classificar erroneamente um drama como comedy (ou vice-versa), estratégias adicionais de balanceamento ou extração de features podem ser exploradas.\n",
    "\n",
    "\tEm resumo, o modelo, com os melhores hiperparâmetros encontrados, apresenta uma boa performance interna (84% na validação cruzada) mas atinge 70% de acurácia e F1-score no teste, refletindo os desafios reais de generalização para novos dados, além de mostrar diferenças de desempenho entre as classes comedy e drama.\n",
    "\n",
    "\t</div>\n"
   ]
  },
  {
   "cell_type": "markdown",
   "metadata": {},
   "source": [
    "### 3. Performance Comparison\n",
    "Compare the performance of the following approaches:\n",
    "1. Traditional Bag-of-Words\n",
    "2. LLM-generated features with Logistic Regression\n",
    "3. Direct classification using LLM\n",
    "\n",
    "Use a bar plot to show the performance differences (choose either accuracy or F1-score)."
   ]
  },
  {
   "cell_type": "code",
   "execution_count": 14,
   "metadata": {},
   "outputs": [],
   "source": [
    "import os\n",
    "import time\n",
    "import json\n",
    "import numpy as np\n",
    "import pandas as pd\n",
    "import matplotlib.pyplot as plt\n",
    "from tqdm import tqdm\n",
    "from dotenv import load_dotenv\n",
    "from sklearn.pipeline import Pipeline\n",
    "from sklearn.model_selection import train_test_split, GridSearchCV\n",
    "from sklearn.metrics import accuracy_score, f1_score, classification_report\n",
    "from sklearn.feature_extraction.text import TfidfVectorizer\n",
    "from sklearn.linear_model import LogisticRegression\n",
    "import google.generativeai as genai"
   ]
  },
  {
   "cell_type": "code",
   "execution_count": 15,
   "metadata": {},
   "outputs": [],
   "source": [
    "# ===============================\n",
    "# Setup for LLM API (Gemini)\n",
    "# ===============================\n",
    "load_dotenv()\n",
    "GEMINI_API_KEY = os.getenv('GEMINI_API_KEY')\n",
    "if GEMINI_API_KEY is None:\n",
    "    raise ValueError(\"GEMINI_API_KEY is not set in the environment variables.\")\n",
    "genai.configure(api_key=GEMINI_API_KEY)"
   ]
  },
  {
   "cell_type": "code",
   "execution_count": 16,
   "metadata": {},
   "outputs": [
    {
     "name": "stdout",
     "output_type": "stream",
     "text": [
      "=== Traditional Bag-of-Words ===\n",
      "              precision    recall  f1-score   support\n",
      "\n",
      "      comedy       0.78      0.59      0.67       875\n",
      "       drama       0.74      0.88      0.81      1194\n",
      "\n",
      "    accuracy                           0.76      2069\n",
      "   macro avg       0.76      0.73      0.74      2069\n",
      "weighted avg       0.76      0.76      0.75      2069\n",
      "\n",
      "Accuracy: 0.7564040599323345 F1-score: 0.7388092151271719\n"
     ]
    }
   ],
   "source": [
    "\n",
    "# ===============================\n",
    "# Approach 1: Traditional Bag-of-Words\n",
    "# ===============================\n",
    "# Load the movie plots dataset\n",
    "df_plots = pd.read_csv('https://raw.githubusercontent.com/tiagoft/NLP/main/wiki_movie_plots_drama_comedy.csv')\n",
    "\n",
    "# Split dataset for text-based classification\n",
    "X_train_text, X_test_text, y_train_text, y_test_text = train_test_split(\n",
    "    df_plots['Plot'], df_plots['Genre'], test_size=0.2, random_state=42\n",
    ")\n",
    "\n",
    "# Create a pipeline: TF-IDF vectorizer + Logistic Regression\n",
    "model_bow = Pipeline([\n",
    "    ('tfidf', TfidfVectorizer(stop_words='english')),\n",
    "    ('clf', LogisticRegression(max_iter=1000, random_state=42))\n",
    "])\n",
    "model_bow.fit(X_train_text, y_train_text)\n",
    "y_pred_bow = model_bow.predict(X_test_text)\n",
    "\n",
    "acc_bow = accuracy_score(y_test_text, y_pred_bow)\n",
    "f1_bow = f1_score(y_test_text, y_pred_bow, average='macro')\n",
    "print(\"=== Traditional Bag-of-Words ===\")\n",
    "print(classification_report(y_test_text, y_pred_bow))\n",
    "print(\"Accuracy:\", acc_bow, \"F1-score:\", f1_bow)\n"
   ]
  },
  {
   "cell_type": "code",
   "execution_count": 17,
   "metadata": {},
   "outputs": [
    {
     "name": "stdout",
     "output_type": "stream",
     "text": [
      "\n",
      "=== LLM-Generated Features + Logistic Regression ===\n",
      "              precision    recall  f1-score   support\n",
      "\n",
      "      comedy       0.80      0.67      0.73        12\n",
      "       drama       0.60      0.75      0.67         8\n",
      "\n",
      "    accuracy                           0.70        20\n",
      "   macro avg       0.70      0.71      0.70        20\n",
      "weighted avg       0.72      0.70      0.70        20\n",
      "\n",
      "Accuracy: 0.7 F1-score: 0.696969696969697\n"
     ]
    }
   ],
   "source": [
    "# ===============================\n",
    "# Approach 2: LLM-Generated Features + Logistic Regression\n",
    "# ===============================\n",
    "# Load the dataset with LLM-generated features (previously stored locally)\n",
    "features_file = \"movie_plots_features_updated.csv\"\n",
    "if not os.path.exists(features_file):\n",
    "    raise FileNotFoundError(f\"{features_file} not found. Please ensure the file exists locally.\")\n",
    "\n",
    "df_features = pd.read_csv(features_file)\n",
    "# Define the interpretable feature columns (none of these is the class itself)\n",
    "feature_cols = [\"protagonist_is_animal\", \"psychological_suffering\", \n",
    "                \"romantic_element\", \"action_intensity\", \"mystery_presence\"]\n",
    "\n",
    "X_features = df_features[feature_cols]\n",
    "y_features = df_features[\"Genre\"]\n",
    "\n",
    "# Split dataset for features-based classification\n",
    "X_train_feat, X_test_feat, y_train_feat, y_test_feat = train_test_split(\n",
    "    X_features, y_features, test_size=0.2, random_state=42\n",
    ")\n",
    "\n",
    "# Train a Logistic Regression model on these features\n",
    "model_llm_features = LogisticRegression(max_iter=1000, random_state=42)\n",
    "model_llm_features.fit(X_train_feat, y_train_feat)\n",
    "y_pred_llm_features = model_llm_features.predict(X_test_feat)\n",
    "\n",
    "acc_llm_features = accuracy_score(y_test_feat, y_pred_llm_features)\n",
    "f1_llm_features = f1_score(y_test_feat, y_pred_llm_features, average='macro')\n",
    "print(\"\\n=== LLM-Generated Features + Logistic Regression ===\")\n",
    "print(classification_report(y_test_feat, y_pred_llm_features))\n",
    "print(\"Accuracy:\", acc_llm_features, \"F1-score:\", f1_llm_features)\n"
   ]
  },
  {
   "cell_type": "code",
   "execution_count": 19,
   "metadata": {},
   "outputs": [
    {
     "name": "stdout",
     "output_type": "stream",
     "text": [
      "\n",
      "=== Direct Classification using LLM (Sample of 20) ===\n"
     ]
    },
    {
     "name": "stderr",
     "output_type": "stream",
     "text": [
      "Classifying with LLM: 100%|██████████| 20/20 [01:48<00:00,  5.43s/it]"
     ]
    },
    {
     "name": "stdout",
     "output_type": "stream",
     "text": [
      "Direct LLM Classification - Accuracy: 0.75 F1-score: 0.7493734335839599\n",
      "              precision    recall  f1-score   support\n",
      "\n",
      "      comedy       0.89      0.67      0.76        12\n",
      "       drama       0.64      0.88      0.74         8\n",
      "\n",
      "    accuracy                           0.75        20\n",
      "   macro avg       0.76      0.77      0.75        20\n",
      "weighted avg       0.79      0.75      0.75        20\n",
      "\n"
     ]
    },
    {
     "name": "stderr",
     "output_type": "stream",
     "text": [
      "\n"
     ]
    }
   ],
   "source": [
    "# ===============================\n",
    "# Approach 3: Direct Classification using LLM\n",
    "# ===============================\n",
    "def direct_classify(plot: str) -> str:\n",
    "    \"\"\"\n",
    "    Classify a movie plot directly using an LLM.\n",
    "    The prompt instructs the LLM to output a single word: either COMEDY or DRAMA.\n",
    "    \"\"\"\n",
    "    prompt = f\"Classify the following movie plot as either COMEDY or DRAMA. Reply with a single word in all caps.\\nPlot: {plot}\"\n",
    "    generation_config = genai.GenerationConfig(\n",
    "        max_output_tokens=5,\n",
    "        temperature=0.0,\n",
    "    )\n",
    "    model_llm = genai.GenerativeModel(model_name=\"gemini-1.5-flash\")\n",
    "    response = model_llm.generate_content(prompt, generation_config=generation_config)\n",
    "    predicted = response.text.strip().upper()\n",
    "    if \"COMEDY\" in predicted:\n",
    "        return \"comedy\"\n",
    "    elif \"DRAMA\" in predicted:\n",
    "        return \"drama\"\n",
    "    else:\n",
    "        return \"unknown\"\n",
    "\n",
    "# To avoid many API calls, use a small sample from X_test_text (e.g., 20 items)\n",
    "sample_indices = X_test_text.index[:20]\n",
    "X_test_llm = X_test_text.loc[sample_indices]\n",
    "y_test_llm = y_test_text.loc[sample_indices]\n",
    "\n",
    "predictions_llm = []\n",
    "print(\"\\n=== Direct Classification using LLM (Sample of 20) ===\")\n",
    "for plot in tqdm(X_test_llm, desc=\"Classifying with LLM\"):\n",
    "    pred = direct_classify(plot)\n",
    "    predictions_llm.append(pred)\n",
    "    time.sleep(5)  # Increased delay to avoid API rate limits\n",
    "\n",
    "acc_llm_direct = accuracy_score(y_test_llm, predictions_llm)\n",
    "f1_llm_direct = f1_score(y_test_llm, predictions_llm, average='macro')\n",
    "print(\"Direct LLM Classification - Accuracy:\", acc_llm_direct, \"F1-score:\", f1_llm_direct)\n",
    "print(classification_report(y_test_llm, predictions_llm))"
   ]
  },
  {
   "cell_type": "code",
   "execution_count": 20,
   "metadata": {},
   "outputs": [
    {
     "data": {
      "image/png": "[encoded data removed]",
      "text/plain": [
       "<Figure size 1000x500 with 1 Axes>"
      ]
     },
     "metadata": {},
     "output_type": "display_data"
    }
   ],
   "source": [
    "# ===============================\n",
    "# Performance Comparison Plot\n",
    "# ===============================\n",
    "labels = ['Traditional BoW', 'LLM Features', 'Direct LLM']\n",
    "accuracy_values = [acc_bow, acc_llm_features, acc_llm_direct]\n",
    "f1_values = [f1_bow, f1_llm_features, f1_llm_direct]\n",
    "\n",
    "plt.figure(figsize=(10,5))\n",
    "x = np.arange(len(labels))\n",
    "width = 0.35\n",
    "\n",
    "# Plot Accuracy and F1-score side-by-side for each approach\n",
    "plt.bar(x - width/2, accuracy_values, width, label='Accuracy', color='blue')\n",
    "plt.bar(x + width/2, f1_values, width, label='F1-score', color='green')\n",
    "plt.xticks(x, labels)\n",
    "plt.ylim(0, 1)\n",
    "plt.ylabel('Score')\n",
    "plt.title('Performance Comparison of Classification Approaches')\n",
    "plt.legend()\n",
    "plt.show()"
   ]
  },
  {
   "cell_type": "markdown",
   "metadata": {},
   "source": [
    "\n",
    "\n",
    "\t### Análise dos Resultados e Escolha da Melhor Abordagem\n",
    "\n",
    "\t1. Traditional Bag-of-Words (TF-IDF + Logistic Regression)\n",
    "\t\t•\tMétricas:\n",
    "\t\t•\tAcurácia: 75.6%\n",
    "\t\t•\tF1-score: 73.9%\n",
    "\t\t•\tDados: Avaliado em um conjunto de teste robusto com 2.069 amostras.\n",
    "\t\t•\tInterpretação:\n",
    "\t\t•\tO modelo alcança resultados consistentes, com um desempenho estável e representativo da população de dados.\n",
    "\t\t•\tOs índices de recall e precisão para cada classe mostram que o modelo tem um desempenho razoável, mesmo havendo uma leve diferença entre as classes (por exemplo, recall menor para “comedy” e maior para “drama”).\n",
    "\n",
    "\t2. LLM-Generated Features + Logistic Regression\n",
    "\t\t•\tMétricas:\n",
    "\t\t•\tAcurácia: 70%\n",
    "\t\t•\tF1-score: 69.7%\n",
    "\t\t•\tDados: Avaliado em uma amostra muito pequena (20 itens).\n",
    "\t\t•\tInterpretação:\n",
    "\t\t•\tApesar de usar recursos interpretáveis gerados pelo LLM (como “protagonist_is_animal”, etc.), o desempenho obtido foi inferior ao da abordagem tradicional.\n",
    "\t\t•\tA pequena quantidade de amostras torna a avaliação menos confiável e possivelmente não representa a performance real do método quando aplicado em um conjunto de dados maior.\n",
    "\n",
    "\t3. Direct Classification using LLM\n",
    "\t\t•\tMétricas:\n",
    "\t\t•\tAcurácia: 75%\n",
    "\t\t•\tF1-score: 74.9%\n",
    "\t\t•\tDados: Também avaliado em uma amostra reduzida de 20 itens.\n",
    "\t\t•\tInterpretação:\n",
    "\t\t•\tOs resultados são próximos aos da abordagem tradicional, mas a avaliação se baseia em um conjunto de teste pequeno, o que pode não refletir a robustez do método em um cenário real.\n",
    "\t\t•\tAlém disso, a classificação direta por LLM pode ser mais custosa (em termos de chamadas à API) e sujeita a variações, dependendo do prompt e de eventuais flutuações na resposta do modelo.\n",
    "\n",
    "\tConclusão\n",
    "\n",
    "\tA melhor abordagem, de acordo com os resultados apresentados, é a abordagem tradicional Bag-of-Words (TF-IDF + Logistic Regression).\n",
    "\n",
    "\tJustificativa:\n",
    "\t\t•\tRobustez dos Dados:\n",
    "\t\t•\tA avaliação foi feita em um conjunto de teste amplo (2.069 amostras), oferecendo uma medida mais confiável do desempenho do modelo.\n",
    "\t\t•\tConsistência de Métricas:\n",
    "\t\t•\tCom uma acurácia de aproximadamente 75.6% e um F1-score de 73.9%, a abordagem tradicional demonstra um bom equilíbrio entre precisão e recall para ambas as classes.\n",
    "\t\t•\tCusto e Reprodutibilidade:\n",
    "\t\t•\tEssa abordagem utiliza métodos estabelecidos, com menor custo computacional e sem dependência de APIs externas, o que a torna mais reprodutível e viável para aplicações em larga escala.\n",
    "\t\t•\tComparação com Abordagens Baseadas em LLM:\n",
    "\t\t•\tA abordagem com LLM-geração de features apresentou desempenho inferior (70% de acurácia) e foi avaliada em um conjunto de teste muito pequeno.\n",
    "\t\t•\tA classificação direta usando LLM obteve métricas similares à tradicional, mas a avaliação em apenas 20 itens e os potenciais custos adicionais tornam-na menos atrativa.\n",
    "\n",
    "\tPortanto, a abordagem tradicional Bag-of-Words não só atingiu métricas competitivas em um cenário robusto, mas também apresenta vantagens práticas importantes para aplicações reais.\n",
    "\n"
   ]
  },
  {
   "cell_type": "markdown",
   "metadata": {},
   "source": [
    "    Considerando apenas os números:\n",
    "        •\tTraditional Bag-of-Words:\n",
    "        •\tAccuracy: 75.64%\n",
    "        •\tF1-score: 73.88%\n",
    "        •\tLLM-Generated Features + Logistic Regression:\n",
    "        •\tAccuracy: 70.00%\n",
    "        •\tF1-score: 69.70%\n",
    "        •\tDirect Classification using LLM:\n",
    "        •\tAccuracy: 75.00%\n",
    "        •\tF1-score: 74.94%\n",
    "\n",
    "    Ao comparar as métricas, a abordagem de Direct Classification using LLM apresenta um F1-score ligeiramente superior (74.94% contra 73.88% do tradicional) e uma acurácia praticamente semelhante (75.00% contra 75.64%).\n",
    "    Portanto, considerando apenas accuracy e F1-score, a Direct Classification using LLM é a melhor entre as três abordagens."
   ]
  },
  {
   "cell_type": "markdown",
   "metadata": {},
   "source": [
    "### 4. Improvement Strategies\n",
    "Determine whether labeling more items would improve system performance. Use data to justify your answer."
   ]
  },
  {
   "cell_type": "markdown",
   "metadata": {},
   "source": [
    "\n",
    "\n",
    "    ## Análise de Estratégias de Melhoria: Etiquetagem de Mais Itens\n",
    "\n",
    "    Justificativa Baseada em Dados\n",
    "\n",
    "    Em geral, aumentar o número de itens rotulados tende a melhorar a performance de um sistema de classificação. Isso ocorre porque:\n",
    "        1.\tCurvas de Aprendizado:\n",
    "        •\tObservação Empírica: Quando analisamos a curva de aprendizado, notamos que, ao aumentar o tamanho do conjunto de treinamento, a acurácia no conjunto de teste tende a aumentar. Isso acontece porque o modelo tem acesso a uma maior variedade de exemplos, o que melhora a estimativa dos parâmetros.\n",
    "        •\tTendência: Nos estágios iniciais, a adição de mais dados pode resultar em ganhos substanciais de performance. Conforme o tamanho do conjunto aumenta, o ganho se torna incremental até atingir um platô – o chamado limite de Bayes, que é o desempenho máximo teórico dado o ruído e a ambiguidade dos dados.\n",
    "        2.\tExemplo Numérico:\n",
    "        •\tHipótese: Se, por exemplo, ao dobrar o número de itens de treinamento, a acurácia de teste passar de 70% para 75%, isso indica que o modelo ainda se beneficia de dados adicionais.\n",
    "        •\tDiminuição de Overfitting: Com mais dados, a tendência é que a acurácia no treinamento diminua (indicando menos overfitting), enquanto a acurácia no teste aumenta, aproximando-se do desempenho real que o modelo pode alcançar.\n",
    "        3.\tLimitações:\n",
    "        •\tPlatô de Desempenho: Se a curva de aprendizado já estiver se estabilizando (ou seja, os ganhos de acurácia se tornarem muito pequenos com o acréscimo de mais dados), então o impacto de rotular mais itens será limitado.\n",
    "        •\tCusto vs. Benefício: Além disso, há um custo associado à rotulagem manual (ou mesmo semi-automática). Se os ganhos forem marginais, pode não ser vantajoso investir em mais rótulos.\n",
    "\n",
    "    Conclusão\n",
    "\n",
    "    Sim, rotular mais itens pode melhorar a performance do sistema, desde que o modelo ainda esteja em uma fase de aprendizado e os ganhos de acurácia no conjunto de teste continuem significativos.\n",
    "        •\tSe a curva de aprendizado mostra um aumento consistente na acurácia de teste à medida que o tamanho do conjunto aumenta, isso justifica a rotulagem de mais itens.\n",
    "        •\tPor outro lado, se os ganhos se estabilizarem (indicando que o modelo atingiu o limite de performance dado os dados disponíveis), a adição de mais dados traria apenas melhorias marginais.\n",
    "\n",
    "    Em resumo, se os dados atuais ainda não atingiram o platô do desempenho (por exemplo, se houver uma diferença significativa entre a acurácia atual e o limite teórico), rotular mais itens certamente melhorará a performance do sistema.\n"
   ]
  },
  {
   "cell_type": "code",
   "execution_count": 21,
   "metadata": {},
   "outputs": [
    {
     "data": {
      "image/png": "[encoded data removed]",
      "text/plain": [
       "<Figure size 800x600 with 1 Axes>"
      ]
     },
     "metadata": {},
     "output_type": "display_data"
    }
   ],
   "source": [
    "import numpy as np\n",
    "import matplotlib.pyplot as plt\n",
    "import pandas as pd\n",
    "from sklearn.pipeline import Pipeline\n",
    "from sklearn.linear_model import LogisticRegression\n",
    "from sklearn.feature_extraction.text import TfidfVectorizer\n",
    "from sklearn.model_selection import learning_curve\n",
    "\n",
    "# Load the movie plots dataset\n",
    "df = pd.read_csv('https://raw.githubusercontent.com/tiagoft/NLP/main/wiki_movie_plots_drama_comedy.csv')\n",
    "X = df['Plot']\n",
    "y = df['Genre']\n",
    "\n",
    "# Define a pipeline for a traditional Bag-of-Words approach using TF-IDF and Logistic Regression\n",
    "model = Pipeline([\n",
    "    ('tfidf', TfidfVectorizer(stop_words='english')),\n",
    "    ('clf', LogisticRegression(max_iter=1000, random_state=42))\n",
    "])\n",
    "\n",
    "# Compute learning curves using 5-fold cross-validation\n",
    "train_sizes, train_scores, test_scores = learning_curve(\n",
    "    model, X, y, cv=5, scoring='accuracy', n_jobs=-1,\n",
    "    train_sizes=np.linspace(0.1, 1.0, 10)\n",
    ")\n",
    "\n",
    "# Calculate mean and standard deviation for training and validation scores\n",
    "train_scores_mean = np.mean(train_scores, axis=1)\n",
    "train_scores_std = np.std(train_scores, axis=1)\n",
    "test_scores_mean = np.mean(test_scores, axis=1)\n",
    "test_scores_std = np.std(test_scores, axis=1)\n",
    "\n",
    "# Plot the learning curve\n",
    "plt.figure(figsize=(8, 6))\n",
    "plt.fill_between(train_sizes, train_scores_mean - train_scores_std, \n",
    "                 train_scores_mean + train_scores_std, color='red', alpha=0.2)\n",
    "plt.fill_between(train_sizes, test_scores_mean - test_scores_std, \n",
    "                 test_scores_mean + test_scores_std, color='green', alpha=0.2)\n",
    "plt.plot(train_sizes, train_scores_mean, 'o-', color='red', label='Training Accuracy')\n",
    "plt.plot(train_sizes, test_scores_mean, 'o-', color='green', label='Validation Accuracy')\n",
    "plt.xlabel('Number of Training Samples')\n",
    "plt.ylabel('Accuracy')\n",
    "plt.title('Learning Curve: Effect of Increasing Labeled Data')\n",
    "plt.legend(loc='best')\n",
    "plt.grid(True)\n",
    "plt.show()"
   ]
  },
  {
   "cell_type": "markdown",
   "metadata": {},
   "source": [
    "\n",
    "    Interpretação da Curva de Aprendizado\n",
    "\n",
    "    A imagem anexada mostra uma curva de aprendizado para um modelo de classificação. O eixo x representa o número de amostras de treinamento utilizadas, enquanto o eixo y representa a acurácia. Há duas curvas:\n",
    "        •\tAcurácia no Treinamento (curva vermelha): Indica o quão bem o modelo se ajusta aos dados de treinamento.\n",
    "        •\tAcurácia na Validação (curva verde): Indica o quão bem o modelo generaliza para dados não vistos (utilizando validação cruzada).\n",
    "\n",
    "    As áreas sombreadas ao redor de cada curva representam as faixas aproximadas de variação (por exemplo, desvio padrão) na acurácia entre diferentes divisões ou amostragens aleatórias.\n",
    "\n",
    "    ⸻\n",
    "\n",
    "    Principais Observações\n",
    "        1.\tAlta Acurácia no Treinamento com Conjuntos Pequenos\n",
    "        •\tNo lado esquerdo do gráfico (pequenas quantidades de dados), a acurácia no treinamento é muito alta (em torno de 0,95).\n",
    "        •\tMotivo: Com poucas amostras, o modelo consegue memorizar ou ajustar demais esses exemplos, resultando em desempenho quase perfeito no conjunto de treinamento.\n",
    "        2.\tRedução da Acurácia no Treinamento com o Aumento de Dados\n",
    "        •\tÀ medida que avançamos para a direita (de centenas para milhares de amostras), a curva vermelha diminui gradualmente de 0,95 para cerca de 0,88–0,90.\n",
    "        •\tMotivo: Com mais dados, o modelo encontra mais complexidade e não consegue memorizar tudo, levando a uma acurácia mais realista.\n",
    "        3.\tAumento da Acurácia na Validação\n",
    "        •\tA curva verde começa com acurácia baixa (~0,62) com poucas centenas de amostras e sobe continuamente até ~0,82 quando o conjunto de treinamento chega a 8000 amostras.\n",
    "        •\tMotivo: Mais dados ajudam o modelo a aprender padrões representativos da população, reduzindo o overfitting e melhorando a generalização.\n",
    "        4.\tConvergência e o Limite de Bayes\n",
    "        •\tA diferença entre as curvas vermelha (treinamento) e verde (validação) diminui com o crescimento do dataset, mostrando que as previsões do modelo em novos dados estão se aproximando dos resultados do treinamento.\n",
    "        •\tLimite: A acurácia na validação pode atingir um platô caso o modelo se aproxime do limite de Bayes—o melhor desempenho possível dado o ruído ou ambiguidade nos dados.\n",
    "        5.\tVariabilidade (Áreas Sombreadas)\n",
    "        •\tAs áreas sombreadas são maiores com conjuntos pequenos, especialmente na curva de validação.\n",
    "        •\tMotivo: Com menos dados, cada divisão da validação cruzada pode ter composições muito diferentes, gerando mais variação na acurácia. À medida que o conjunto cresce, o desempenho se estabiliza e a variância diminui.\n",
    "\n",
    "    ⸻\n",
    "\n",
    "    Implicações Práticas\n",
    "        •\tNecessidade de Mais Dados: A tendência crescente da curva verde sugere que adicionar mais dados rotulados continua a melhorar a capacidade de generalização do modelo.\n",
    "        •\tEquilíbrio entre Overfitting e Underfitting: No início, o modelo sofre overfitting (alta acurácia no treinamento, baixa na validação). Com mais dados, alcança-se um equilíbrio melhor.\n",
    "        •\tPlatô: Quando a curva verde começa a se estabilizar, novos dados podem trazer ganhos apenas marginais. Isso indica que o modelo está perto do melhor desempenho possível com a abordagem e qualidade de dados atuais.\n",
    "\n",
    "    ⸻\n",
    "\n",
    "    Resumo\n",
    "\n",
    "    O gráfico demonstra o comportamento clássico de uma curva de aprendizado:\n",
    "        •\tConjuntos pequenos → Overfitting (alta acurácia no treinamento, baixa na validação).\n",
    "        •\tCrescimento do conjunto → Acurácia no treinamento diminui levemente, enquanto a validação melhora significativamente.\n",
    "        •\tConjuntos grandes → O desempenho em dados não vistos se estabiliza e se aproxima de um limite superior.\n",
    "\n",
    "    Isso reforça a conclusão de que rotular mais dados é benéfico até o ponto em que a curva de validação se estabiliza—além disso, ganhos adicionais tendem a ser menores.\n",
    "\n"
   ]
  },
  {
   "cell_type": "markdown",
   "metadata": {},
   "source": []
  }
 ],
 "metadata": {
  "kernelspec": {
   "display_name": "venv",
   "language": "python",
   "name": "python3"
  },
  "language_info": {
   "codemirror_mode": {
    "name": "ipython",
    "version": 3
   },
   "file_extension": ".py",
   "mimetype": "text/x-python",
   "name": "python",
   "nbconvert_exporter": "python",
   "pygments_lexer": "ipython3",
   "version": "3.13.2"
  }
 },
 "nbformat": 4,
 "nbformat_minor": 2
}
