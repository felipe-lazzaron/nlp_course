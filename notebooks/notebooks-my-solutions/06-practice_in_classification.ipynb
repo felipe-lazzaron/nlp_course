{
 "cells": [
  {
   "cell_type": "markdown",
   "id": "d98e1a57",
   "metadata": {},
   "source": [
    "# ACTIVITY: A CLASSIFIER\n",
    "\n",
    "The goal of this activity is to practice building and discussing a classifier. By the end of the activity, you should be able to justify your design decisions according to \n",
    "\n",
    "TASK:"
   ]
  },
  {
   "cell_type": "markdown",
   "id": "af144335",
   "metadata": {},
   "source": []
  },
  {
   "cell_type": "code",
   "execution_count": 1,
   "id": "2b490f94",
   "metadata": {},
   "outputs": [
    {
     "name": "stdout",
     "output_type": "stream",
     "text": [
      "Downloading from https://www.kaggle.com/api/v1/datasets/download/hgultekin/bbcnewsarchive?dataset_version_number=1...\n"
     ]
    },
    {
     "name": "stderr",
     "output_type": "stream",
     "text": [
      "100%|██████████| 1.81M/1.81M [00:01<00:00, 1.43MB/s]"
     ]
    },
    {
     "name": "stdout",
     "output_type": "stream",
     "text": [
      "Extracting files...\n"
     ]
    },
    {
     "name": "stderr",
     "output_type": "stream",
     "text": [
      "\n"
     ]
    },
    {
     "name": "stdout",
     "output_type": "stream",
     "text": [
      "['bbc-news-data.csv']\n"
     ]
    }
   ],
   "source": [
    "import kagglehub\n",
    "import os\n",
    "import pandas as pd\n",
    "from pathlib import Path\n",
    "\n",
    "path = kagglehub.dataset_download(\"hgultekin/bbcnewsarchive\")\n",
    "print(os.listdir(path))\n",
    "df = pd.read_csv(Path(path) / \"bbc-news-data.csv\", sep='\\t')"
   ]
  },
  {
   "cell_type": "code",
   "execution_count": 2,
   "id": "d06ea01d",
   "metadata": {},
   "outputs": [
    {
     "data": {
      "text/html": [
       "<div>\n",
       "<style scoped>\n",
       "    .dataframe tbody tr th:only-of-type {\n",
       "        vertical-align: middle;\n",
       "    }\n",
       "\n",
       "    .dataframe tbody tr th {\n",
       "        vertical-align: top;\n",
       "    }\n",
       "\n",
       "    .dataframe thead th {\n",
       "        text-align: right;\n",
       "    }\n",
       "</style>\n",
       "<table border=\"1\" class=\"dataframe\">\n",
       "  <thead>\n",
       "    <tr style=\"text-align: right;\">\n",
       "      <th></th>\n",
       "      <th>category</th>\n",
       "      <th>filename</th>\n",
       "      <th>title</th>\n",
       "      <th>content</th>\n",
       "    </tr>\n",
       "  </thead>\n",
       "  <tbody>\n",
       "    <tr>\n",
       "      <th>0</th>\n",
       "      <td>business</td>\n",
       "      <td>001.txt</td>\n",
       "      <td>Ad sales boost Time Warner profit</td>\n",
       "      <td>Quarterly profits at US media giant TimeWarne...</td>\n",
       "    </tr>\n",
       "    <tr>\n",
       "      <th>1</th>\n",
       "      <td>business</td>\n",
       "      <td>002.txt</td>\n",
       "      <td>Dollar gains on Greenspan speech</td>\n",
       "      <td>The dollar has hit its highest level against ...</td>\n",
       "    </tr>\n",
       "    <tr>\n",
       "      <th>2</th>\n",
       "      <td>business</td>\n",
       "      <td>003.txt</td>\n",
       "      <td>Yukos unit buyer faces loan claim</td>\n",
       "      <td>The owners of embattled Russian oil giant Yuk...</td>\n",
       "    </tr>\n",
       "    <tr>\n",
       "      <th>3</th>\n",
       "      <td>business</td>\n",
       "      <td>004.txt</td>\n",
       "      <td>High fuel prices hit BA's profits</td>\n",
       "      <td>British Airways has blamed high fuel prices f...</td>\n",
       "    </tr>\n",
       "    <tr>\n",
       "      <th>4</th>\n",
       "      <td>business</td>\n",
       "      <td>005.txt</td>\n",
       "      <td>Pernod takeover talk lifts Domecq</td>\n",
       "      <td>Shares in UK drinks and food firm Allied Dome...</td>\n",
       "    </tr>\n",
       "  </tbody>\n",
       "</table>\n",
       "</div>"
      ],
      "text/plain": [
       "   category filename                              title  \\\n",
       "0  business  001.txt  Ad sales boost Time Warner profit   \n",
       "1  business  002.txt   Dollar gains on Greenspan speech   \n",
       "2  business  003.txt  Yukos unit buyer faces loan claim   \n",
       "3  business  004.txt  High fuel prices hit BA's profits   \n",
       "4  business  005.txt  Pernod takeover talk lifts Domecq   \n",
       "\n",
       "                                             content  \n",
       "0   Quarterly profits at US media giant TimeWarne...  \n",
       "1   The dollar has hit its highest level against ...  \n",
       "2   The owners of embattled Russian oil giant Yuk...  \n",
       "3   British Airways has blamed high fuel prices f...  \n",
       "4   Shares in UK drinks and food firm Allied Dome...  "
      ]
     },
     "execution_count": 2,
     "metadata": {},
     "output_type": "execute_result"
    }
   ],
   "source": [
    "df.head()"
   ]
  },
  {
   "cell_type": "code",
   "execution_count": 3,
   "id": "0556772c",
   "metadata": {},
   "outputs": [
    {
     "data": {
      "text/html": [
       "<div>\n",
       "<style scoped>\n",
       "    .dataframe tbody tr th:only-of-type {\n",
       "        vertical-align: middle;\n",
       "    }\n",
       "\n",
       "    .dataframe tbody tr th {\n",
       "        vertical-align: top;\n",
       "    }\n",
       "\n",
       "    .dataframe thead th {\n",
       "        text-align: right;\n",
       "    }\n",
       "</style>\n",
       "<table border=\"1\" class=\"dataframe\">\n",
       "  <thead>\n",
       "    <tr style=\"text-align: right;\">\n",
       "      <th></th>\n",
       "      <th>category</th>\n",
       "      <th>filename</th>\n",
       "      <th>title</th>\n",
       "      <th>content</th>\n",
       "    </tr>\n",
       "  </thead>\n",
       "  <tbody>\n",
       "    <tr>\n",
       "      <th>count</th>\n",
       "      <td>2225</td>\n",
       "      <td>2225</td>\n",
       "      <td>2225</td>\n",
       "      <td>2225</td>\n",
       "    </tr>\n",
       "    <tr>\n",
       "      <th>unique</th>\n",
       "      <td>5</td>\n",
       "      <td>511</td>\n",
       "      <td>2096</td>\n",
       "      <td>2092</td>\n",
       "    </tr>\n",
       "    <tr>\n",
       "      <th>top</th>\n",
       "      <td>sport</td>\n",
       "      <td>001.txt</td>\n",
       "      <td>Microsoft seeking spyware trojan</td>\n",
       "      <td>Microsoft has warned PC users to update their...</td>\n",
       "    </tr>\n",
       "    <tr>\n",
       "      <th>freq</th>\n",
       "      <td>511</td>\n",
       "      <td>5</td>\n",
       "      <td>2</td>\n",
       "      <td>2</td>\n",
       "    </tr>\n",
       "  </tbody>\n",
       "</table>\n",
       "</div>"
      ],
      "text/plain": [
       "       category filename                             title  \\\n",
       "count      2225     2225                              2225   \n",
       "unique        5      511                              2096   \n",
       "top       sport  001.txt  Microsoft seeking spyware trojan   \n",
       "freq        511        5                                 2   \n",
       "\n",
       "                                                  content  \n",
       "count                                                2225  \n",
       "unique                                               2092  \n",
       "top      Microsoft has warned PC users to update their...  \n",
       "freq                                                    2  "
      ]
     },
     "execution_count": 3,
     "metadata": {},
     "output_type": "execute_result"
    }
   ],
   "source": [
    "df.describe()"
   ]
  },
  {
   "cell_type": "markdown",
   "id": "a423b8dd",
   "metadata": {},
   "source": [
    "## Baseline classifier\n",
    "\n",
    "We will start with a baseline classifier. It is a simple Bag-of-words classifier."
   ]
  },
  {
   "cell_type": "code",
   "execution_count": 4,
   "id": "7b480959",
   "metadata": {},
   "outputs": [
    {
     "name": "stdout",
     "output_type": "stream",
     "text": [
      "               precision    recall  f1-score   support\n",
      "\n",
      "     business       0.95      0.97      0.96       115\n",
      "entertainment       0.97      0.94      0.96        72\n",
      "     politics       0.96      0.95      0.95        76\n",
      "        sport       0.99      0.99      0.99       102\n",
      "         tech       0.95      0.95      0.95        80\n",
      "\n",
      "     accuracy                           0.96       445\n",
      "    macro avg       0.96      0.96      0.96       445\n",
      " weighted avg       0.96      0.96      0.96       445\n",
      "\n"
     ]
    }
   ],
   "source": [
    "from sklearn.model_selection import train_test_split\n",
    "from sklearn.feature_extraction.text import TfidfVectorizer\n",
    "from sklearn.linear_model import LogisticRegression\n",
    "from sklearn.pipeline import Pipeline\n",
    "from sklearn.metrics import classification_report\n",
    "\n",
    "X_train, X_test, y_train, y_test = train_test_split(df['content'], df['category'], test_size=0.2, random_state=42)\n",
    "\n",
    "pipeline = Pipeline([\n",
    "    ('tfidf', TfidfVectorizer()),\n",
    "    ('clf', LogisticRegression(max_iter=1000))\n",
    "])\n",
    "\n",
    "pipeline.fit(X_train, y_train)\n",
    "y_pred = pipeline.predict(X_test)\n",
    "print(classification_report(y_test, y_pred))"
   ]
  },
  {
   "cell_type": "markdown",
   "id": "211af15f",
   "metadata": {},
   "source": [
    "## PART 1: preparation\n",
    "\n",
    "Answer the questions below as comments in the following cell. In your answers, avoid using common sense. Use adequate jargons."
   ]
  },
  {
   "cell_type": "code",
   "execution_count": null,
   "id": "d440a61a",
   "metadata": {},
   "outputs": [],
   "source": [
    "#ex1\n",
    "\n",
    "# Question 1: What is the underlying premise of the Bag-of-Words classifier, that is, why does BoW allow to classify these texts?\n",
    "# Question 2: What is the underlying premise of a BERT-based classifier, that is, why should BERT embeddings be interesting to classify these texts?\n"
   ]
  },
  {
   "cell_type": "markdown",
   "id": "03683dec",
   "metadata": {},
   "source": [
    "## Question 1: What is the underlying premise of the Bag-of-Words classifier, that is, why does BoW allow to classify these texts?\n"
   ]
  },
  {
   "cell_type": "markdown",
   "id": "b8462630",
   "metadata": {},
   "source": [
    "**Questão 1**  \n",
    "A premissa subjacente do classificador Bag-of-Words é que cada texto é representado como um vetor esparso de contagens (ou frequências ponderadas via TF‑IDF) em um espaço vetorial de dimensão igual ao vocabulário. Essa modelagem ignora as relações sintáticas e a ordem das palavras, focando apenas na distribuição estatística de tokens. Modelos discriminativos (como SVM ou Naive Bayes Multinomial) utilizam esses vetores para aprender fronteiras de decisão baseadas em perfis lexicais, pois diferentes classes textuais apresentam distribuições de tokens suficientemente distintas para serem separáveis."
   ]
  },
  {
   "cell_type": "markdown",
   "id": "1506f978",
   "metadata": {},
   "source": [
    "## Question 2: What is the underlying premise of a BERT-based classifier, that is, why should BERT embeddings be interesting to classify these texts?\n"
   ]
  },
  {
   "cell_type": "markdown",
   "id": "43bc3e6c",
   "metadata": {},
   "source": [
    "**Questão 2**  \n",
    "A premissa subjacente de um classificador baseado em BERT é que embeddings contextuais extraídos de uma arquitetura Transformer bidirecional pré-treinada contêm riqueza semântica e sintática suficiente para discriminar classes textuais. As camadas de multi-head self-attention capturam dependências de longo alcance e nuances de contexto, enquanto o vetor associado ao token [CLS] funciona como uma representação global do texto. No processo de fine-tuning, os parâmetros do modelo são ajustados de forma supervisionada, afinando essas projeções contextuais para maximizar a separabilidade das classes na tarefa de classificação."
   ]
  },
  {
   "cell_type": "markdown",
   "id": "c4752c77",
   "metadata": {},
   "source": [
    "## PART 2: action\n",
    "\n",
    "(a) Make a classifier that uses BERT embeddings to categorize the texts in the dataset we have discussed.\n",
    "\n",
    "(b) Make a bar plot comparing the accuracy of the BERT-based classifier to that of the Bag-of-Words classifier\n",
    "\n",
    "(c) Use a PCA or a T-SNE plot to visualize the documents in the newsgroups dataset in the embedding space provided by BERT. Analyze the plot taking into account the confusion matrix or the classification report of your BERT-based classifier.\n",
    "\n",
    "\n"
   ]
  },
  {
   "cell_type": "markdown",
   "id": "6beba010",
   "metadata": {},
   "source": [
    "## Parte 2: Ações com Classificadores e Visualizações\n",
    "\n",
    "### Passo 0: Instalar dependências\n",
    "No seu Jupyter Notebook, execute:\n",
    "```bash\n",
    "!pip install transformers torch scikit-learn matplotlib"
   ]
  },
  {
   "cell_type": "markdown",
   "id": "ea8446c1",
   "metadata": {},
   "source": [
    "# Passo 1: Carregar e dividir o dataset"
   ]
  },
  {
   "cell_type": "code",
   "execution_count": 5,
   "id": "4c1e5e49",
   "metadata": {},
   "outputs": [],
   "source": [
    "from sklearn.datasets import fetch_20newsgroups\n",
    "from sklearn.model_selection import train_test_split\n",
    "\n",
    "categories = ['alt.atheism', 'comp.graphics', 'sci.space', 'talk.politics.misc']\n",
    "newsgroups = fetch_20newsgroups(subset='all',\n",
    "                                categories=categories,\n",
    "                                remove=('headers','footers','quotes'))\n",
    "data, target, target_names = newsgroups.data, newsgroups.target, newsgroups.target_names\n",
    "\n",
    "data_train, data_test, y_train, y_test = train_test_split(\n",
    "    data, target, test_size=0.2, random_state=42\n",
    ")"
   ]
  },
  {
   "cell_type": "markdown",
   "id": "83acf546",
   "metadata": {},
   "source": [
    "# Passo 2: Bag‑of‑Words + Naive Bayes"
   ]
  },
  {
   "cell_type": "code",
   "execution_count": 6,
   "id": "b5745bc5",
   "metadata": {},
   "outputs": [
    {
     "name": "stdout",
     "output_type": "stream",
     "text": [
      "Bag‑of‑Words accuracy: 0.8557\n"
     ]
    }
   ],
   "source": [
    "from sklearn.feature_extraction.text import CountVectorizer, TfidfTransformer\n",
    "from sklearn.naive_bayes import MultinomialNB\n",
    "from sklearn.metrics import accuracy_score\n",
    "\n",
    "vectorizer = CountVectorizer(stop_words='english')\n",
    "tfidf = TfidfTransformer()\n",
    "\n",
    "X_counts_train = vectorizer.fit_transform(data_train)\n",
    "X_tfidf_train  = tfidf.fit_transform(X_counts_train)\n",
    "X_tfidf_test   = tfidf.transform(vectorizer.transform(data_test))\n",
    "\n",
    "clf_bow = MultinomialNB()\n",
    "clf_bow.fit(X_tfidf_train, y_train)\n",
    "y_pred_bow = clf_bow.predict(X_tfidf_test)\n",
    "acc_bow = accuracy_score(y_test, y_pred_bow)\n",
    "print(f\"Bag‑of‑Words accuracy: {acc_bow:.4f}\")"
   ]
  },
  {
   "cell_type": "markdown",
   "id": "ccd489fb",
   "metadata": {},
   "source": [
    "# Passo 3: BERT Embeddings + Regressão Logística"
   ]
  },
  {
   "cell_type": "code",
   "execution_count": 7,
   "id": "2595b2e3",
   "metadata": {},
   "outputs": [
    {
     "name": "stdout",
     "output_type": "stream",
     "text": [
      "BERT-based classifier accuracy: 0.8006\n"
     ]
    }
   ],
   "source": [
    "from transformers import BertTokenizer, BertModel\n",
    "import torch\n",
    "import numpy as np\n",
    "from sklearn.linear_model import LogisticRegression\n",
    "from sklearn.metrics import accuracy_score\n",
    "\n",
    "tokenizer = BertTokenizer.from_pretrained('bert-base-uncased')\n",
    "bert_model = BertModel.from_pretrained('bert-base-uncased')\n",
    "bert_model.eval()\n",
    "\n",
    "def embed_texts(texts, batch_size=8, max_len=128):\n",
    "    embs = []\n",
    "    for i in range(0, len(texts), batch_size):\n",
    "        batch = texts[i:i+batch_size]\n",
    "        enc = tokenizer(batch, return_tensors='pt',\n",
    "                        padding=True, truncation=True,\n",
    "                        max_length=max_len)\n",
    "        with torch.no_grad():\n",
    "            out = bert_model(**enc)\n",
    "        cls_emb = out.last_hidden_state[:,0,:].cpu().numpy()\n",
    "        embs.append(cls_emb)\n",
    "    return np.vstack(embs)\n",
    "\n",
    "X_train_bert = embed_texts(data_train)\n",
    "X_test_bert  = embed_texts(data_test)\n",
    "\n",
    "clf_bert = LogisticRegression(max_iter=1000)\n",
    "clf_bert.fit(X_train_bert, y_train)\n",
    "y_pred_bert = clf_bert.predict(X_test_bert)\n",
    "acc_bert = accuracy_score(y_test, y_pred_bert)\n",
    "print(f\"BERT-based classifier accuracy: {acc_bert:.4f}\")"
   ]
  },
  {
   "cell_type": "markdown",
   "id": "6974dd37",
   "metadata": {},
   "source": [
    "# Passo 4: Comparativo de Acurácia"
   ]
  },
  {
   "cell_type": "code",
   "execution_count": 8,
   "id": "fe221108",
   "metadata": {},
   "outputs": [
    {
     "data": {
      "image/png": "[encoded data removed]",
      "text/plain": [
       "<Figure size 640x480 with 1 Axes>"
      ]
     },
     "metadata": {},
     "output_type": "display_data"
    }
   ],
   "source": [
    "import matplotlib.pyplot as plt\n",
    "\n",
    "plt.figure()\n",
    "plt.bar(['Bag‑of‑Words','BERT'], [acc_bow, acc_bert])\n",
    "plt.ylabel('Accuracy')\n",
    "plt.title('Comparação de Acurácia dos Classificadores')\n",
    "plt.show()"
   ]
  },
  {
   "cell_type": "code",
   "execution_count": null,
   "id": "a4bd87fd",
   "metadata": {},
   "outputs": [],
   "source": []
  }
 ],
 "metadata": {
  "kernelspec": {
   "display_name": "venv",
   "language": "python",
   "name": "python3"
  },
  "language_info": {
   "codemirror_mode": {
    "name": "ipython",
    "version": 3
   },
   "file_extension": ".py",
   "mimetype": "text/x-python",
   "name": "python",
   "nbconvert_exporter": "python",
   "pygments_lexer": "ipython3",
   "version": "3.10.11"
  }
 },
 "nbformat": 4,
 "nbformat_minor": 5
}
